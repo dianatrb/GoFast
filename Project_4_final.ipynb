{
 "cells": [
  {
   "cell_type": "markdown",
   "id": "a61816e8-e573-43bf-9616-5645878112ef",
   "metadata": {},
   "source": [
    "# Улучшение работы сервиса по аренде самокатов GoFast"
   ]
  },
  {
   "cell_type": "markdown",
   "id": "63fea3f2-e648-41a8-b61d-86fc4a7ef1f4",
   "metadata": {},
   "source": [
    "# Описание проекта "
   ]
  },
  {
   "cell_type": "markdown",
   "id": "cfb194c6-711a-4853-ac77-320190b1e3d2",
   "metadata": {},
   "source": [
    "Имеются данные сервиса аренды самокатов GoFast.\n",
    "\n",
    "Цель проекта - исследовать данные и на основе полученных результатов предложить стратегии по повышению эффективности и росту прибыли бизнеса.\n",
    "\n",
    "Чтобы совершать поездки по городу, пользователи сервиса GoFast пользуются мобильным приложением. Сервисом можно пользоваться:\n",
    "- без подписки\n",
    "    - абонентская плата отсутствует;\n",
    "    - стоимость одной минуты поездки — 8 рублей;\n",
    "    - стоимость старта (начала поездки) — 50 рублей;\n",
    "- с подпиской Ultra\n",
    "    - абонентская плата — 199 рублей в месяц;\n",
    "    - стоимость одной минуты поездки — 6 рублей;\n",
    "    - стоимость старта — бесплатно."
   ]
  },
  {
   "cell_type": "markdown",
   "id": "d544238e-2d3a-4bbb-96f8-224097a36f0a",
   "metadata": {},
   "source": [
    "План проекта: \n",
    "- [Общая информация](#1)\n",
    "- [Предобработка данных](#2)\n",
    "- [Исследовательский анализ данных](#3)\n",
    "- [Объединение данных](#4)\n",
    "- [Подсчёт выручки](#5)\n",
    "- [Проверка гипотез](#6)\n",
    "- [Дополнительное исслеодование](#7)\n",
    "- [Вывод](#8)"
   ]
  },
  {
   "cell_type": "markdown",
   "id": "3e8db731-cfc7-4466-9312-21832d2866e3",
   "metadata": {},
   "source": [
    "# Описание данных"
   ]
  },
  {
   "cell_type": "markdown",
   "id": "b6d0c3a5-6192-4792-b545-e7e05d974c69",
   "metadata": {},
   "source": [
    "# Общая информация\n",
    "<a id='1'></a>"
   ]
  },
  {
   "cell_type": "code",
   "execution_count": 1,
   "id": "41adb444-d2f5-46be-84dc-a5192f38c7ad",
   "metadata": {},
   "outputs": [],
   "source": [
    "import pandas as pd\n",
    "import numpy as np\n",
    "from scipy import stats as st\n",
    "import seaborn as sns\n",
    "import matplotlib.pyplot as plt"
   ]
  },
  {
   "cell_type": "code",
   "execution_count": 2,
   "id": "a218a3fd-0422-4d93-a146-78fab4250945",
   "metadata": {},
   "outputs": [],
   "source": [
    "try:\n",
    "    users = pd.read_csv('/datasets/users_go.csv')\n",
    "    rides = pd.read_csv('/datasets/rides_go.csv')\n",
    "    subscr = pd.read_csv('/datasets/subscriptions_go.csv')\n",
    "except: \n",
    "    users = pd.read_csv('./users_go.csv')\n",
    "    rides = pd.read_csv('./rides_go.csv')\n",
    "    subscr = pd.read_csv('./subscriptions_go.csv')\n",
    "\n"
   ]
  },
  {
   "cell_type": "code",
   "execution_count": 3,
   "id": "cc663332-707a-4f1e-a3e4-cd78877f8ba8",
   "metadata": {},
   "outputs": [
    {
     "name": "stdout",
     "output_type": "stream",
     "text": [
      "<class 'pandas.core.frame.DataFrame'>\n",
      "RangeIndex: 1565 entries, 0 to 1564\n",
      "Data columns (total 5 columns):\n",
      " #   Column             Non-Null Count  Dtype \n",
      "---  ------             --------------  ----- \n",
      " 0   user_id            1565 non-null   int64 \n",
      " 1   name               1565 non-null   object\n",
      " 2   age                1565 non-null   int64 \n",
      " 3   city               1565 non-null   object\n",
      " 4   subscription_type  1565 non-null   object\n",
      "dtypes: int64(2), object(3)\n",
      "memory usage: 61.3+ KB\n",
      "None\n"
     ]
    },
    {
     "data": {
      "text/html": [
       "<div>\n",
       "<style scoped>\n",
       "    .dataframe tbody tr th:only-of-type {\n",
       "        vertical-align: middle;\n",
       "    }\n",
       "\n",
       "    .dataframe tbody tr th {\n",
       "        vertical-align: top;\n",
       "    }\n",
       "\n",
       "    .dataframe thead th {\n",
       "        text-align: right;\n",
       "    }\n",
       "</style>\n",
       "<table border=\"1\" class=\"dataframe\">\n",
       "  <thead>\n",
       "    <tr style=\"text-align: right;\">\n",
       "      <th></th>\n",
       "      <th>user_id</th>\n",
       "      <th>name</th>\n",
       "      <th>age</th>\n",
       "      <th>city</th>\n",
       "      <th>subscription_type</th>\n",
       "    </tr>\n",
       "  </thead>\n",
       "  <tbody>\n",
       "    <tr>\n",
       "      <th>0</th>\n",
       "      <td>1</td>\n",
       "      <td>Кира</td>\n",
       "      <td>22</td>\n",
       "      <td>Тюмень</td>\n",
       "      <td>ultra</td>\n",
       "    </tr>\n",
       "    <tr>\n",
       "      <th>1</th>\n",
       "      <td>2</td>\n",
       "      <td>Станислав</td>\n",
       "      <td>31</td>\n",
       "      <td>Омск</td>\n",
       "      <td>ultra</td>\n",
       "    </tr>\n",
       "    <tr>\n",
       "      <th>2</th>\n",
       "      <td>3</td>\n",
       "      <td>Алексей</td>\n",
       "      <td>20</td>\n",
       "      <td>Москва</td>\n",
       "      <td>ultra</td>\n",
       "    </tr>\n",
       "    <tr>\n",
       "      <th>3</th>\n",
       "      <td>4</td>\n",
       "      <td>Константин</td>\n",
       "      <td>26</td>\n",
       "      <td>Ростов-на-Дону</td>\n",
       "      <td>ultra</td>\n",
       "    </tr>\n",
       "    <tr>\n",
       "      <th>4</th>\n",
       "      <td>5</td>\n",
       "      <td>Адель</td>\n",
       "      <td>28</td>\n",
       "      <td>Омск</td>\n",
       "      <td>ultra</td>\n",
       "    </tr>\n",
       "  </tbody>\n",
       "</table>\n",
       "</div>"
      ],
      "text/plain": [
       "   user_id        name  age            city subscription_type\n",
       "0        1        Кира   22          Тюмень             ultra\n",
       "1        2   Станислав   31            Омск             ultra\n",
       "2        3     Алексей   20          Москва             ultra\n",
       "3        4  Константин   26  Ростов-на-Дону             ultra\n",
       "4        5       Адель   28            Омск             ultra"
      ]
     },
     "execution_count": 3,
     "metadata": {},
     "output_type": "execute_result"
    }
   ],
   "source": [
    "print(users.info())\n",
    "users.head()"
   ]
  },
  {
   "cell_type": "code",
   "execution_count": 4,
   "id": "e96f5821-cf26-4f91-bc9e-f4f5271c017b",
   "metadata": {},
   "outputs": [
    {
     "data": {
      "image/png": "[encoded data removed]",
      "text/plain": [
       "<Figure size 640x480 with 1 Axes>"
      ]
     },
     "metadata": {},
     "output_type": "display_data"
    }
   ],
   "source": [
    "users['age'].hist();"
   ]
  },
  {
   "cell_type": "markdown",
   "id": "130a3128-bd8b-4f68-b3b5-f7fe1246a3f6",
   "metadata": {},
   "source": [
    "Первичный обзор данных таблицы users:\n",
    "- количество заполненных ячеек одинаково в каждом столбце и совпадает с общим количеством строк, значит, пропусков нет;\n",
    "- наличие дубликатов проверим ниже;\n",
    "- тип данных в каждом столбце корректный;\n",
    "- в столбце возраста есть редкие (старше 37 лет) и аномальные (младше 18 лет) значения."
   ]
  },
  {
   "cell_type": "code",
   "execution_count": 5,
   "id": "67eea6e1-e1e2-4a22-90b7-256695b9d12d",
   "metadata": {},
   "outputs": [
    {
     "name": "stdout",
     "output_type": "stream",
     "text": [
      "<class 'pandas.core.frame.DataFrame'>\n",
      "RangeIndex: 18068 entries, 0 to 18067\n",
      "Data columns (total 4 columns):\n",
      " #   Column    Non-Null Count  Dtype  \n",
      "---  ------    --------------  -----  \n",
      " 0   user_id   18068 non-null  int64  \n",
      " 1   distance  18068 non-null  float64\n",
      " 2   duration  18068 non-null  float64\n",
      " 3   date      18068 non-null  object \n",
      "dtypes: float64(2), int64(1), object(1)\n",
      "memory usage: 564.8+ KB\n",
      "None\n"
     ]
    },
    {
     "data": {
      "text/html": [
       "<div>\n",
       "<style scoped>\n",
       "    .dataframe tbody tr th:only-of-type {\n",
       "        vertical-align: middle;\n",
       "    }\n",
       "\n",
       "    .dataframe tbody tr th {\n",
       "        vertical-align: top;\n",
       "    }\n",
       "\n",
       "    .dataframe thead th {\n",
       "        text-align: right;\n",
       "    }\n",
       "</style>\n",
       "<table border=\"1\" class=\"dataframe\">\n",
       "  <thead>\n",
       "    <tr style=\"text-align: right;\">\n",
       "      <th></th>\n",
       "      <th>user_id</th>\n",
       "      <th>distance</th>\n",
       "      <th>duration</th>\n",
       "      <th>date</th>\n",
       "    </tr>\n",
       "  </thead>\n",
       "  <tbody>\n",
       "    <tr>\n",
       "      <th>0</th>\n",
       "      <td>1</td>\n",
       "      <td>4409.919140</td>\n",
       "      <td>25.599769</td>\n",
       "      <td>2021-01-01</td>\n",
       "    </tr>\n",
       "    <tr>\n",
       "      <th>1</th>\n",
       "      <td>1</td>\n",
       "      <td>2617.592153</td>\n",
       "      <td>15.816871</td>\n",
       "      <td>2021-01-18</td>\n",
       "    </tr>\n",
       "    <tr>\n",
       "      <th>2</th>\n",
       "      <td>1</td>\n",
       "      <td>754.159807</td>\n",
       "      <td>6.232113</td>\n",
       "      <td>2021-04-20</td>\n",
       "    </tr>\n",
       "    <tr>\n",
       "      <th>3</th>\n",
       "      <td>1</td>\n",
       "      <td>2694.783254</td>\n",
       "      <td>18.511000</td>\n",
       "      <td>2021-08-11</td>\n",
       "    </tr>\n",
       "    <tr>\n",
       "      <th>4</th>\n",
       "      <td>1</td>\n",
       "      <td>4028.687306</td>\n",
       "      <td>26.265803</td>\n",
       "      <td>2021-08-28</td>\n",
       "    </tr>\n",
       "  </tbody>\n",
       "</table>\n",
       "</div>"
      ],
      "text/plain": [
       "   user_id     distance   duration        date\n",
       "0        1  4409.919140  25.599769  2021-01-01\n",
       "1        1  2617.592153  15.816871  2021-01-18\n",
       "2        1   754.159807   6.232113  2021-04-20\n",
       "3        1  2694.783254  18.511000  2021-08-11\n",
       "4        1  4028.687306  26.265803  2021-08-28"
      ]
     },
     "execution_count": 5,
     "metadata": {},
     "output_type": "execute_result"
    }
   ],
   "source": [
    "print(rides.info())\n",
    "rides.head()"
   ]
  },
  {
   "cell_type": "code",
   "execution_count": 6,
   "id": "be5c7241-1451-483e-a39f-2c93529f56ab",
   "metadata": {},
   "outputs": [
    {
     "data": {
      "image/png": "[encoded data removed]",
      "text/plain": [
       "<Figure size 640x480 with 4 Axes>"
      ]
     },
     "metadata": {},
     "output_type": "display_data"
    }
   ],
   "source": [
    "rides.hist();"
   ]
  },
  {
   "cell_type": "markdown",
   "id": "fd2cded3-962a-4769-8778-6104fa75fb9d",
   "metadata": {},
   "source": [
    "Первичный обзор данных таблицы rides:\n",
    "- количество заполненных ячеек одинаково в каждом столбце и совпадает с общим количеством строк, значит, пропусков нет;\n",
    "- наличие дубликатов проверим ниже;\n",
    "- тип данных в столбце 'date' object. Ниже приведем к типу date. В остальных столбцах тип данных корректный;\n",
    "- в столбце расстояния есть аномальные (близкие к 0) и редкие (больше 6000м) значения;\n",
    "- в столбце длительности поездки также есть аномальные (близкие к 0) и редкие (больше 35 минут) значения."
   ]
  },
  {
   "cell_type": "code",
   "execution_count": 7,
   "id": "8050b260-3780-4538-9292-777356ce1389",
   "metadata": {},
   "outputs": [
    {
     "data": {
      "text/html": [
       "<div>\n",
       "<style scoped>\n",
       "    .dataframe tbody tr th:only-of-type {\n",
       "        vertical-align: middle;\n",
       "    }\n",
       "\n",
       "    .dataframe tbody tr th {\n",
       "        vertical-align: top;\n",
       "    }\n",
       "\n",
       "    .dataframe thead th {\n",
       "        text-align: right;\n",
       "    }\n",
       "</style>\n",
       "<table border=\"1\" class=\"dataframe\">\n",
       "  <thead>\n",
       "    <tr style=\"text-align: right;\">\n",
       "      <th></th>\n",
       "      <th>subscription_type</th>\n",
       "      <th>minute_price</th>\n",
       "      <th>start_ride_price</th>\n",
       "      <th>subscription_fee</th>\n",
       "    </tr>\n",
       "  </thead>\n",
       "  <tbody>\n",
       "    <tr>\n",
       "      <th>0</th>\n",
       "      <td>free</td>\n",
       "      <td>8</td>\n",
       "      <td>50</td>\n",
       "      <td>0</td>\n",
       "    </tr>\n",
       "    <tr>\n",
       "      <th>1</th>\n",
       "      <td>ultra</td>\n",
       "      <td>6</td>\n",
       "      <td>0</td>\n",
       "      <td>199</td>\n",
       "    </tr>\n",
       "  </tbody>\n",
       "</table>\n",
       "</div>"
      ],
      "text/plain": [
       "  subscription_type  minute_price  start_ride_price  subscription_fee\n",
       "0              free             8                50                 0\n",
       "1             ultra             6                 0               199"
      ]
     },
     "execution_count": 7,
     "metadata": {},
     "output_type": "execute_result"
    }
   ],
   "source": [
    "subscr"
   ]
  },
  {
   "cell_type": "markdown",
   "id": "2d337ef5-72c2-4d22-9f99-67f8bccd2e63",
   "metadata": {},
   "source": [
    "# Предобработка данных\n",
    "<a id='2'></a>"
   ]
  },
  {
   "cell_type": "markdown",
   "id": "d81a01d3-63ad-434a-af32-1d50c200e9a1",
   "metadata": {},
   "source": [
    "Вычислим долю пропусков и явных дубликатов в таблицах users и rides; удалим дубликаты, если они были:"
   ]
  },
  {
   "cell_type": "code",
   "execution_count": 8,
   "id": "21139752-ebfe-4086-a979-47854e83efc2",
   "metadata": {},
   "outputs": [
    {
     "data": {
      "text/plain": [
       "user_id              0.0\n",
       "name                 0.0\n",
       "age                  0.0\n",
       "city                 0.0\n",
       "subscription_type    0.0\n",
       "dtype: float64"
      ]
     },
     "execution_count": 8,
     "metadata": {},
     "output_type": "execute_result"
    }
   ],
   "source": [
    "users.isna().mean().sort_values()*100"
   ]
  },
  {
   "cell_type": "code",
   "execution_count": 9,
   "id": "29afd95e-6eec-45a7-8fd7-7a012ce3cc9a",
   "metadata": {},
   "outputs": [
    {
     "data": {
      "text/plain": [
       "1.9808306709265175"
      ]
     },
     "execution_count": 9,
     "metadata": {},
     "output_type": "execute_result"
    }
   ],
   "source": [
    "users.duplicated().mean()*100"
   ]
  },
  {
   "cell_type": "code",
   "execution_count": 10,
   "id": "0f5f598e-f3dd-408c-828a-ad17d53a577e",
   "metadata": {},
   "outputs": [],
   "source": [
    "users = users.drop_duplicates()"
   ]
  },
  {
   "cell_type": "code",
   "execution_count": 11,
   "id": "90e8dc56-2667-4f4f-bd3a-99d006d7fa92",
   "metadata": {},
   "outputs": [
    {
     "data": {
      "text/plain": [
       "user_id     0.0\n",
       "distance    0.0\n",
       "duration    0.0\n",
       "date        0.0\n",
       "dtype: float64"
      ]
     },
     "execution_count": 11,
     "metadata": {},
     "output_type": "execute_result"
    }
   ],
   "source": [
    "rides.isna().mean().sort_values()*100"
   ]
  },
  {
   "cell_type": "code",
   "execution_count": 12,
   "id": "fd5449e2-705a-48a1-a773-c4de505874fe",
   "metadata": {},
   "outputs": [
    {
     "data": {
      "text/plain": [
       "0.0"
      ]
     },
     "execution_count": 12,
     "metadata": {},
     "output_type": "execute_result"
    }
   ],
   "source": [
    "rides.duplicated().mean()*100"
   ]
  },
  {
   "cell_type": "markdown",
   "id": "3de77dec-2d9a-4146-af50-a2e248da04dc",
   "metadata": {},
   "source": [
    "Пропусков в данных не обнаружено. Явные дубликаты удалены: для таблицы пользователей дубликаты составили 2%, а в таблице поездок дубликатов не было.\n",
    "\n",
    "---"
   ]
  },
  {
   "cell_type": "markdown",
   "id": "c60801f9-222a-4a7d-9ef4-6513dd6379a8",
   "metadata": {},
   "source": [
    "Проверим наличие неявных дубликатов в столбце 'city' таблицы users:"
   ]
  },
  {
   "cell_type": "code",
   "execution_count": 13,
   "id": "27c00489-ca3b-4ce8-99e8-0b36548e9122",
   "metadata": {},
   "outputs": [
    {
     "data": {
      "text/plain": [
       "array(['Тюмень', 'Омск', 'Москва', 'Ростов-на-Дону', 'Краснодар',\n",
       "       'Пятигорск', 'Екатеринбург', 'Сочи'], dtype=object)"
      ]
     },
     "execution_count": 13,
     "metadata": {},
     "output_type": "execute_result"
    }
   ],
   "source": [
    "users['city'].unique()"
   ]
  },
  {
   "cell_type": "markdown",
   "id": "0a2f1042-47c0-400c-8ebd-f85124824297",
   "metadata": {},
   "source": [
    "Неявных дубликатов не обнаружено.\n",
    "\n",
    "---"
   ]
  },
  {
   "cell_type": "markdown",
   "id": "2b950716-07b3-4b95-acd2-09e1f2c565ef",
   "metadata": {},
   "source": [
    "Приведем столбец date к типу даты pandas и создадим новый столбец с номером месяца на основе столбца date:"
   ]
  },
  {
   "cell_type": "code",
   "execution_count": 14,
   "id": "262d4cf7-51c0-490d-a7b7-c68e0a0b77c4",
   "metadata": {},
   "outputs": [],
   "source": [
    "rides['date'] = pd.to_datetime(rides['date'], format='%Y-%m-%d')\n",
    "rides['month'] = pd.DatetimeIndex(rides['date']).month"
   ]
  },
  {
   "cell_type": "markdown",
   "id": "8f6feabf-d75f-4832-a896-20649221649a",
   "metadata": {},
   "source": [
    "---"
   ]
  },
  {
   "cell_type": "markdown",
   "id": "9092c3a4-5a21-43a2-ad63-a9ef526bdec5",
   "metadata": {},
   "source": [
    "Переведем данные столбца distance в км. Округлим до 1 знака после запятой данные в столбцах distance и duration:"
   ]
  },
  {
   "cell_type": "code",
   "execution_count": 15,
   "id": "c93798fa-2c9d-4184-968f-19b03e68cacf",
   "metadata": {},
   "outputs": [
    {
     "data": {
      "text/html": [
       "<div>\n",
       "<style scoped>\n",
       "    .dataframe tbody tr th:only-of-type {\n",
       "        vertical-align: middle;\n",
       "    }\n",
       "\n",
       "    .dataframe tbody tr th {\n",
       "        vertical-align: top;\n",
       "    }\n",
       "\n",
       "    .dataframe thead th {\n",
       "        text-align: right;\n",
       "    }\n",
       "</style>\n",
       "<table border=\"1\" class=\"dataframe\">\n",
       "  <thead>\n",
       "    <tr style=\"text-align: right;\">\n",
       "      <th></th>\n",
       "      <th>user_id</th>\n",
       "      <th>distance</th>\n",
       "      <th>duration</th>\n",
       "      <th>date</th>\n",
       "      <th>month</th>\n",
       "    </tr>\n",
       "  </thead>\n",
       "  <tbody>\n",
       "    <tr>\n",
       "      <th>0</th>\n",
       "      <td>1</td>\n",
       "      <td>4.4</td>\n",
       "      <td>25.6</td>\n",
       "      <td>2021-01-01</td>\n",
       "      <td>1</td>\n",
       "    </tr>\n",
       "    <tr>\n",
       "      <th>1</th>\n",
       "      <td>1</td>\n",
       "      <td>2.6</td>\n",
       "      <td>15.8</td>\n",
       "      <td>2021-01-18</td>\n",
       "      <td>1</td>\n",
       "    </tr>\n",
       "    <tr>\n",
       "      <th>2</th>\n",
       "      <td>1</td>\n",
       "      <td>0.8</td>\n",
       "      <td>6.2</td>\n",
       "      <td>2021-04-20</td>\n",
       "      <td>4</td>\n",
       "    </tr>\n",
       "    <tr>\n",
       "      <th>3</th>\n",
       "      <td>1</td>\n",
       "      <td>2.7</td>\n",
       "      <td>18.5</td>\n",
       "      <td>2021-08-11</td>\n",
       "      <td>8</td>\n",
       "    </tr>\n",
       "    <tr>\n",
       "      <th>4</th>\n",
       "      <td>1</td>\n",
       "      <td>4.0</td>\n",
       "      <td>26.3</td>\n",
       "      <td>2021-08-28</td>\n",
       "      <td>8</td>\n",
       "    </tr>\n",
       "  </tbody>\n",
       "</table>\n",
       "</div>"
      ],
      "text/plain": [
       "   user_id  distance  duration       date  month\n",
       "0        1       4.4      25.6 2021-01-01      1\n",
       "1        1       2.6      15.8 2021-01-18      1\n",
       "2        1       0.8       6.2 2021-04-20      4\n",
       "3        1       2.7      18.5 2021-08-11      8\n",
       "4        1       4.0      26.3 2021-08-28      8"
      ]
     },
     "execution_count": 15,
     "metadata": {},
     "output_type": "execute_result"
    }
   ],
   "source": [
    "rides['distance']= round(rides['distance']/1000,1)\n",
    "rides['duration'] = round(rides['duration'],1)\n",
    "rides.head()"
   ]
  },
  {
   "cell_type": "markdown",
   "id": "c6d31279-f976-478f-b169-934cecbb4365",
   "metadata": {},
   "source": [
    "---"
   ]
  },
  {
   "cell_type": "markdown",
   "id": "17fbdc24-e5a1-4e0a-9f11-d179f9c6aa81",
   "metadata": {},
   "source": [
    "Проверим, за какой период предоставлены данные о поездках:"
   ]
  },
  {
   "cell_type": "code",
   "execution_count": 16,
   "id": "fd986c57-59a0-4c11-bcf4-b12aa5662259",
   "metadata": {},
   "outputs": [
    {
     "data": {
      "text/plain": [
       "count                            18068\n",
       "mean     2021-06-30 19:47:21.266327296\n",
       "min                2021-01-01 00:00:00\n",
       "25%                2021-04-02 00:00:00\n",
       "50%                2021-06-30 00:00:00\n",
       "75%                2021-09-28 00:00:00\n",
       "max                2021-12-30 00:00:00\n",
       "Name: date, dtype: object"
      ]
     },
     "execution_count": 16,
     "metadata": {},
     "output_type": "execute_result"
    }
   ],
   "source": [
    "rides['date'].describe(datetime_is_numeric=True)"
   ]
  },
  {
   "cell_type": "markdown",
   "id": "9f8a7679-a09d-42e9-88d9-286d96430705",
   "metadata": {},
   "source": [
    "Данные предосталвены за 2021 год, поэтому дальнейшее разбиение на месяцы корректно.\n",
    "\n",
    "---"
   ]
  },
  {
   "cell_type": "markdown",
   "id": "f45c8a28-4ad3-40b5-b0cd-77017269c194",
   "metadata": {},
   "source": [
    "На этапе предобработки данных: \n",
    "- выявлено, что данные предоставлены за 2021 год (с 1 января по 30 декабря)\n",
    "- удалены явные дубликаты в таблице users;\n",
    "- проверены данные на наличие пропусков и неявных дубликатов (таких не обнаружено);\n",
    "- столбец 'date' приведен к типу date;\n",
    "- столбец 'distance' переведен в км и округлен до 1 знака после запятой;\n",
    "- столбец 'duration' округлен до 1 знака после запятой."
   ]
  },
  {
   "cell_type": "markdown",
   "id": "0fc29f17-cde8-4b11-a078-94c9dba90ffd",
   "metadata": {},
   "source": [
    "# Исследовательский анализ данных\n",
    "<a id='3'></a>"
   ]
  },
  {
   "cell_type": "markdown",
   "id": "83e410d9-afb8-48d9-ad56-af0bcde07b23",
   "metadata": {},
   "source": [
    "Создадим копии исходных датафреймов для изменения данных:"
   ]
  },
  {
   "cell_type": "code",
   "execution_count": 17,
   "id": "88e350a3-48ae-44bc-9fac-740e4281bfd5",
   "metadata": {},
   "outputs": [],
   "source": [
    "good_users = users\n",
    "good_rides = rides"
   ]
  },
  {
   "cell_type": "markdown",
   "id": "b27140d2-2b09-4d36-8433-30720cda7104",
   "metadata": {},
   "source": [
    "## Города"
   ]
  },
  {
   "cell_type": "code",
   "execution_count": 18,
   "id": "a659d824-8bda-4cbe-ad5d-580635a32be7",
   "metadata": {},
   "outputs": [
    {
     "data": {
      "image/png": "[encoded data removed]",
      "text/plain": [
       "<Figure size 640x480 with 1 Axes>"
      ]
     },
     "metadata": {},
     "output_type": "display_data"
    }
   ],
   "source": [
    "good_users['city'].value_counts().plot(kind = 'bar', title = 'Частота встречаемости городов', ylabel = 'количество пользователей');"
   ]
  },
  {
   "cell_type": "markdown",
   "id": "6d1f8b9c-9fba-4fa2-9657-02a7735749ac",
   "metadata": {},
   "source": [
    "Таблица с числовыми значениями частотности городов:"
   ]
  },
  {
   "cell_type": "code",
   "execution_count": 19,
   "id": "89bffd0a-1d9f-4dc5-911b-b17be70794c2",
   "metadata": {},
   "outputs": [
    {
     "data": {
      "text/plain": [
       "Пятигорск         219\n",
       "Екатеринбург      204\n",
       "Ростов-на-Дону    198\n",
       "Краснодар         193\n",
       "Сочи              189\n",
       "Омск              183\n",
       "Тюмень            180\n",
       "Москва            168\n",
       "Name: city, dtype: int64"
      ]
     },
     "execution_count": 19,
     "metadata": {},
     "output_type": "execute_result"
    }
   ],
   "source": [
    "good_users['city'].value_counts()"
   ]
  },
  {
   "cell_type": "markdown",
   "id": "a227f306-66de-45e8-9795-a943d5a761c1",
   "metadata": {},
   "source": [
    "На столбчатой диаграмме выше видно, что все 8 городов встречаются почти одинаковое количестов раз, однако самый популярный город - Пятигорск (около 220 пользоватлей), а наименее популряный - Москва ( около 175 пользователей) "
   ]
  },
  {
   "cell_type": "markdown",
   "id": "d2f4b88a-3170-4b3d-bfce-fee3eccfca8b",
   "metadata": {},
   "source": [
    "## Пользователи с подпиской и без"
   ]
  },
  {
   "cell_type": "code",
   "execution_count": 20,
   "id": "7da2b3a9-21eb-4b46-9d9b-053b9f9ac7f1",
   "metadata": {},
   "outputs": [
    {
     "data": {
      "image/png": "[encoded data removed]",
      "text/plain": [
       "<Figure size 640x480 with 1 Axes>"
      ]
     },
     "metadata": {},
     "output_type": "display_data"
    }
   ],
   "source": [
    "good_users['subscription_type'].value_counts().plot(kind = 'pie', ylabel='тип подписки', title = 'Доля пользователей', autopct='%1.0f%%');"
   ]
  },
  {
   "cell_type": "markdown",
   "id": "f5197335-c4ed-42c7-b80e-cd70298532ef",
   "metadata": {},
   "source": [
    "Круговая диаграмма показала, что пользовталей без подписки больше половины."
   ]
  },
  {
   "cell_type": "markdown",
   "id": "43059b0e-ee55-4aef-9bc4-615bdcdd7d7b",
   "metadata": {},
   "source": [
    "## Возраст пользователей "
   ]
  },
  {
   "cell_type": "code",
   "execution_count": 21,
   "id": "0f81646a-81ea-46b3-83c9-410615a3449b",
   "metadata": {},
   "outputs": [
    {
     "data": {
      "text/plain": [
       "count    1534.000000\n",
       "mean       24.903520\n",
       "std         4.572367\n",
       "min        12.000000\n",
       "25%        22.000000\n",
       "50%        25.000000\n",
       "75%        28.000000\n",
       "max        43.000000\n",
       "Name: age, dtype: float64"
      ]
     },
     "execution_count": 21,
     "metadata": {},
     "output_type": "execute_result"
    }
   ],
   "source": [
    "good_users['age'].describe()"
   ]
  },
  {
   "cell_type": "code",
   "execution_count": 22,
   "id": "4f3b49a2-aa57-4616-82c9-9f30c8d939dc",
   "metadata": {},
   "outputs": [
    {
     "data": {
      "image/png": "[encoded data removed]",
      "text/plain": [
       "<Figure size 1000x500 with 1 Axes>"
      ]
     },
     "metadata": {},
     "output_type": "display_data"
    }
   ],
   "source": [
    "plt.figure(figsize=(10, 5))\n",
    "sns.histplot(good_users['age'], bins=20)\n",
    "plt.grid(True)\n",
    "plt.title('Гистограмма возраста пользователей')\n",
    "plt.xlabel('возраст')\n",
    "plt.ylabel('количество пользователей')\n",
    "plt.show()"
   ]
  },
  {
   "cell_type": "markdown",
   "id": "de553db9-0ceb-463d-a756-4356970d841e",
   "metadata": {},
   "source": [
    "В основном, сервисом пользуются люди от 22 до 28 лет. \n",
    "\n",
    "Арендовать самокаты могут только люди старше 18 лет, однако, в данных присутсвует информация о пользователях младше 18. Скорее всего, произошла ошибка при выгрузке данных и стоит обратиться к разработчикам. Удалять такие данные не будем, потому что оплата за эти данные была получена, то они представляют собой реальные наблюдения, а не аномалии или выбросы. Удалять такие наблюдения может привести к потере важной информации и возможным искажениям результатов и выводов на основе анализа данных."
   ]
  },
  {
   "cell_type": "markdown",
   "id": "19a5e385-6f28-4fb2-ac92-d66eaa2f01c2",
   "metadata": {},
   "source": [
    "## Расстояние, которое пользователь преодолел за одну поездку"
   ]
  },
  {
   "cell_type": "code",
   "execution_count": 23,
   "id": "62441417-c28f-4a5b-a04a-bae9a325acfc",
   "metadata": {},
   "outputs": [
    {
     "data": {
      "text/plain": [
       "count    18068.000000\n",
       "mean         3.070716\n",
       "std          1.117278\n",
       "min          0.000000\n",
       "25%          2.500000\n",
       "50%          3.100000\n",
       "75%          3.800000\n",
       "max          7.200000\n",
       "Name: distance, dtype: float64"
      ]
     },
     "execution_count": 23,
     "metadata": {},
     "output_type": "execute_result"
    }
   ],
   "source": [
    "good_rides['distance'].describe()"
   ]
  },
  {
   "cell_type": "code",
   "execution_count": 24,
   "id": "714fb1b5-5a76-44e8-ac39-406da89648b0",
   "metadata": {},
   "outputs": [
    {
     "data": {
      "image/png": "[encoded data removed]",
      "text/plain": [
       "<Figure size 1000x500 with 1 Axes>"
      ]
     },
     "metadata": {},
     "output_type": "display_data"
    }
   ],
   "source": [
    "plt.figure(figsize=(10, 5))\n",
    "sns.histplot(good_rides['distance'], bins=20)\n",
    "plt.grid(True)\n",
    "plt.title('Гистограмма расстояния за одну поездку')\n",
    "plt.xlabel('расстояние, км')\n",
    "plt.ylabel('количество поездок')\n",
    "plt.show()"
   ]
  },
  {
   "cell_type": "markdown",
   "id": "464483b5-deb4-41e8-80ce-0399b177a0a3",
   "metadata": {},
   "source": [
    "Расстояние, которое пользователь проехал за одну поездку, в среднем составляет от 2.5 до 3.8 км.\n",
    "\n",
    "Гистограмма выше обнаружила значения, меньшие 1 км (в частности, 0 км). Скорее всего, пользователь либо арендовал по ошибке самокат (например, не в той точке), либо сервис дал сбой. Однако, если оплата за эти данные была получена, то они представляют собой реальные наблюдения, а не аномалии или выбросы. Удалять такие наблюдения может привести к потере важной информации и возможным искажениям результатов и выводов на основе анализа данных."
   ]
  },
  {
   "cell_type": "markdown",
   "id": "3c43c63f-0266-4da3-a4e2-2d37dec475a9",
   "metadata": {},
   "source": [
    "## Продолжительность поездок"
   ]
  },
  {
   "cell_type": "code",
   "execution_count": 25,
   "id": "666193f5-862d-4cfb-b180-df476be8f2f9",
   "metadata": {},
   "outputs": [
    {
     "data": {
      "text/plain": [
       "count    18068.000000\n",
       "mean        17.804920\n",
       "std          6.091365\n",
       "min          0.500000\n",
       "25%         13.600000\n",
       "50%         17.700000\n",
       "75%         21.700000\n",
       "max         40.800000\n",
       "Name: duration, dtype: float64"
      ]
     },
     "execution_count": 25,
     "metadata": {},
     "output_type": "execute_result"
    }
   ],
   "source": [
    "good_rides['duration'].describe()"
   ]
  },
  {
   "cell_type": "code",
   "execution_count": 26,
   "id": "2577d80a-ce38-4e29-8884-c34ad2241781",
   "metadata": {},
   "outputs": [
    {
     "data": {
      "image/png": "[encoded data removed]",
      "text/plain": [
       "<Figure size 1000x500 with 1 Axes>"
      ]
     },
     "metadata": {},
     "output_type": "display_data"
    }
   ],
   "source": [
    "plt.figure(figsize=(10, 5))\n",
    "sns.histplot(good_rides['duration'], bins=20)\n",
    "plt.grid(True)\n",
    "plt.title('Гистограмма продолжительности поездок')\n",
    "plt.xlabel('продолжительность, мин')\n",
    "plt.ylabel('количество поездок')\n",
    "plt.show()"
   ]
  },
  {
   "cell_type": "markdown",
   "id": "a86f011c-86ff-43e7-b710-03c240d4f64c",
   "metadata": {},
   "source": [
    "Обычно длительность поездки составляет от 14 до 22 минут."
   ]
  },
  {
   "cell_type": "markdown",
   "id": "ad18934d-2205-47b8-bdd0-d12b77a73945",
   "metadata": {},
   "source": [
    "# Объединение данных\n",
    "<a id='4'></a>"
   ]
  },
  {
   "cell_type": "markdown",
   "id": "360a52c1-a2e7-4f2e-840d-a1a4d636e714",
   "metadata": {},
   "source": [
    "Объединим данные в одну таблицу по столбцу 'user_id':"
   ]
  },
  {
   "cell_type": "code",
   "execution_count": 27,
   "id": "0d4af941-dd76-40f3-a7a2-a7ed83dfab09",
   "metadata": {},
   "outputs": [],
   "source": [
    "data = good_users.merge(good_rides, on = 'user_id')"
   ]
  },
  {
   "cell_type": "code",
   "execution_count": 28,
   "id": "de15c8c7-c40b-4525-aadc-5e34876d848d",
   "metadata": {},
   "outputs": [
    {
     "data": {
      "text/plain": [
       "1.0"
      ]
     },
     "execution_count": 28,
     "metadata": {},
     "output_type": "execute_result"
    }
   ],
   "source": [
    "data.shape[0]/good_rides.shape[0]"
   ]
  },
  {
   "cell_type": "markdown",
   "id": "c0a7b5fb-c287-4c11-9e5f-49e0c6b1b398",
   "metadata": {},
   "source": [
    "В методе merge по умолчанию стоит параметр объединения 'inner'. Таким образом, в объединенном датафрейме не могло появиться новых пропусков (с учетом того, что на этапе предобработки данных было выявлено, что пропусков в исходных таблицах нет). Более того, размерность объединенной таблицы совпала с размерностью таблицы good_rides."
   ]
  },
  {
   "cell_type": "markdown",
   "id": "6489f95f-4ad2-4bec-b056-025685ef0e6c",
   "metadata": {},
   "source": [
    "Модель использования сервиса у пользователей с подпиской и без различается, поэтому создадим еще два датафрейма, которые будут хранить информацию о пользователях и поездках с подпиской и без."
   ]
  },
  {
   "cell_type": "code",
   "execution_count": 29,
   "id": "2d93e23c-608d-4f4f-a685-a4b605c27361",
   "metadata": {},
   "outputs": [],
   "source": [
    "data_ultra = data[data['subscription_type'] == 'ultra']"
   ]
  },
  {
   "cell_type": "code",
   "execution_count": 30,
   "id": "87548384-4deb-4794-90a7-7a09f8b1b882",
   "metadata": {},
   "outputs": [],
   "source": [
    "data_free =  data[data['subscription_type'] == 'free']"
   ]
  },
  {
   "cell_type": "markdown",
   "id": "75ef2583-2b9c-41bb-9d18-0732b3159ca5",
   "metadata": {},
   "source": [
    "Изучим эти два датафрейма по отдельности: "
   ]
  },
  {
   "cell_type": "code",
   "execution_count": 31,
   "id": "66c0bbf0-266a-4282-b445-8305120f4eff",
   "metadata": {},
   "outputs": [
    {
     "data": {
      "text/plain": [
       "0.3597520478193491"
      ]
     },
     "execution_count": 31,
     "metadata": {},
     "output_type": "execute_result"
    }
   ],
   "source": [
    "data_ultra.shape[0]/data.shape[0]"
   ]
  },
  {
   "cell_type": "code",
   "execution_count": 32,
   "id": "a77d4eca-6d9f-4d01-b19e-a341146e728e",
   "metadata": {},
   "outputs": [
    {
     "data": {
      "text/html": [
       "<div>\n",
       "<style scoped>\n",
       "    .dataframe tbody tr th:only-of-type {\n",
       "        vertical-align: middle;\n",
       "    }\n",
       "\n",
       "    .dataframe tbody tr th {\n",
       "        vertical-align: top;\n",
       "    }\n",
       "\n",
       "    .dataframe thead th {\n",
       "        text-align: right;\n",
       "    }\n",
       "</style>\n",
       "<table border=\"1\" class=\"dataframe\">\n",
       "  <thead>\n",
       "    <tr style=\"text-align: right;\">\n",
       "      <th></th>\n",
       "      <th>user_id</th>\n",
       "      <th>age</th>\n",
       "      <th>distance</th>\n",
       "      <th>duration</th>\n",
       "      <th>month</th>\n",
       "    </tr>\n",
       "  </thead>\n",
       "  <tbody>\n",
       "    <tr>\n",
       "      <th>count</th>\n",
       "      <td>6500.000000</td>\n",
       "      <td>6500.000000</td>\n",
       "      <td>6500.000000</td>\n",
       "      <td>6500.000000</td>\n",
       "      <td>6500.000000</td>\n",
       "    </tr>\n",
       "    <tr>\n",
       "      <th>mean</th>\n",
       "      <td>348.725385</td>\n",
       "      <td>24.892615</td>\n",
       "      <td>3.115662</td>\n",
       "      <td>18.541692</td>\n",
       "      <td>6.422308</td>\n",
       "    </tr>\n",
       "    <tr>\n",
       "      <th>std</th>\n",
       "      <td>201.099339</td>\n",
       "      <td>4.757208</td>\n",
       "      <td>0.837214</td>\n",
       "      <td>5.572126</td>\n",
       "      <td>3.414616</td>\n",
       "    </tr>\n",
       "    <tr>\n",
       "      <th>min</th>\n",
       "      <td>1.000000</td>\n",
       "      <td>12.000000</td>\n",
       "      <td>0.200000</td>\n",
       "      <td>3.800000</td>\n",
       "      <td>1.000000</td>\n",
       "    </tr>\n",
       "    <tr>\n",
       "      <th>25%</th>\n",
       "      <td>175.000000</td>\n",
       "      <td>22.000000</td>\n",
       "      <td>2.800000</td>\n",
       "      <td>14.500000</td>\n",
       "      <td>4.000000</td>\n",
       "    </tr>\n",
       "    <tr>\n",
       "      <th>50%</th>\n",
       "      <td>351.000000</td>\n",
       "      <td>25.000000</td>\n",
       "      <td>3.100000</td>\n",
       "      <td>18.200000</td>\n",
       "      <td>6.000000</td>\n",
       "    </tr>\n",
       "    <tr>\n",
       "      <th>75%</th>\n",
       "      <td>525.000000</td>\n",
       "      <td>28.000000</td>\n",
       "      <td>3.600000</td>\n",
       "      <td>21.900000</td>\n",
       "      <td>9.000000</td>\n",
       "    </tr>\n",
       "    <tr>\n",
       "      <th>max</th>\n",
       "      <td>699.000000</td>\n",
       "      <td>38.000000</td>\n",
       "      <td>5.700000</td>\n",
       "      <td>40.800000</td>\n",
       "      <td>12.000000</td>\n",
       "    </tr>\n",
       "  </tbody>\n",
       "</table>\n",
       "</div>"
      ],
      "text/plain": [
       "           user_id          age     distance     duration        month\n",
       "count  6500.000000  6500.000000  6500.000000  6500.000000  6500.000000\n",
       "mean    348.725385    24.892615     3.115662    18.541692     6.422308\n",
       "std     201.099339     4.757208     0.837214     5.572126     3.414616\n",
       "min       1.000000    12.000000     0.200000     3.800000     1.000000\n",
       "25%     175.000000    22.000000     2.800000    14.500000     4.000000\n",
       "50%     351.000000    25.000000     3.100000    18.200000     6.000000\n",
       "75%     525.000000    28.000000     3.600000    21.900000     9.000000\n",
       "max     699.000000    38.000000     5.700000    40.800000    12.000000"
      ]
     },
     "execution_count": 32,
     "metadata": {},
     "output_type": "execute_result"
    }
   ],
   "source": [
    "data_ultra.describe()"
   ]
  },
  {
   "cell_type": "code",
   "execution_count": 33,
   "id": "a80dc5b1-d5d4-4235-b46b-d2f92c6dc39b",
   "metadata": {},
   "outputs": [
    {
     "data": {
      "text/html": [
       "<div>\n",
       "<style scoped>\n",
       "    .dataframe tbody tr th:only-of-type {\n",
       "        vertical-align: middle;\n",
       "    }\n",
       "\n",
       "    .dataframe tbody tr th {\n",
       "        vertical-align: top;\n",
       "    }\n",
       "\n",
       "    .dataframe thead th {\n",
       "        text-align: right;\n",
       "    }\n",
       "</style>\n",
       "<table border=\"1\" class=\"dataframe\">\n",
       "  <thead>\n",
       "    <tr style=\"text-align: right;\">\n",
       "      <th></th>\n",
       "      <th>user_id</th>\n",
       "      <th>age</th>\n",
       "      <th>distance</th>\n",
       "      <th>duration</th>\n",
       "      <th>month</th>\n",
       "    </tr>\n",
       "  </thead>\n",
       "  <tbody>\n",
       "    <tr>\n",
       "      <th>count</th>\n",
       "      <td>11568.000000</td>\n",
       "      <td>11568.000000</td>\n",
       "      <td>11568.000000</td>\n",
       "      <td>11568.000000</td>\n",
       "      <td>11568.000000</td>\n",
       "    </tr>\n",
       "    <tr>\n",
       "      <th>mean</th>\n",
       "      <td>1120.527230</td>\n",
       "      <td>24.893326</td>\n",
       "      <td>3.045462</td>\n",
       "      <td>17.390932</td>\n",
       "      <td>6.522994</td>\n",
       "    </tr>\n",
       "    <tr>\n",
       "      <th>std</th>\n",
       "      <td>241.165628</td>\n",
       "      <td>4.481100</td>\n",
       "      <td>1.246675</td>\n",
       "      <td>6.327256</td>\n",
       "      <td>3.449770</td>\n",
       "    </tr>\n",
       "    <tr>\n",
       "      <th>min</th>\n",
       "      <td>700.000000</td>\n",
       "      <td>12.000000</td>\n",
       "      <td>0.000000</td>\n",
       "      <td>0.500000</td>\n",
       "      <td>1.000000</td>\n",
       "    </tr>\n",
       "    <tr>\n",
       "      <th>25%</th>\n",
       "      <td>915.000000</td>\n",
       "      <td>22.000000</td>\n",
       "      <td>2.400000</td>\n",
       "      <td>13.000000</td>\n",
       "      <td>4.000000</td>\n",
       "    </tr>\n",
       "    <tr>\n",
       "      <th>50%</th>\n",
       "      <td>1123.000000</td>\n",
       "      <td>25.000000</td>\n",
       "      <td>3.100000</td>\n",
       "      <td>17.300000</td>\n",
       "      <td>7.000000</td>\n",
       "    </tr>\n",
       "    <tr>\n",
       "      <th>75%</th>\n",
       "      <td>1328.000000</td>\n",
       "      <td>28.000000</td>\n",
       "      <td>3.900000</td>\n",
       "      <td>21.600000</td>\n",
       "      <td>9.000000</td>\n",
       "    </tr>\n",
       "    <tr>\n",
       "      <th>max</th>\n",
       "      <td>1534.000000</td>\n",
       "      <td>43.000000</td>\n",
       "      <td>7.200000</td>\n",
       "      <td>34.900000</td>\n",
       "      <td>12.000000</td>\n",
       "    </tr>\n",
       "  </tbody>\n",
       "</table>\n",
       "</div>"
      ],
      "text/plain": [
       "            user_id           age      distance      duration         month\n",
       "count  11568.000000  11568.000000  11568.000000  11568.000000  11568.000000\n",
       "mean    1120.527230     24.893326      3.045462     17.390932      6.522994\n",
       "std      241.165628      4.481100      1.246675      6.327256      3.449770\n",
       "min      700.000000     12.000000      0.000000      0.500000      1.000000\n",
       "25%      915.000000     22.000000      2.400000     13.000000      4.000000\n",
       "50%     1123.000000     25.000000      3.100000     17.300000      7.000000\n",
       "75%     1328.000000     28.000000      3.900000     21.600000      9.000000\n",
       "max     1534.000000     43.000000      7.200000     34.900000     12.000000"
      ]
     },
     "execution_count": 33,
     "metadata": {},
     "output_type": "execute_result"
    }
   ],
   "source": [
    "data_free.describe()"
   ]
  },
  {
   "cell_type": "code",
   "execution_count": 34,
   "id": "ddc70640",
   "metadata": {},
   "outputs": [
    {
     "data": {
      "image/png": "[encoded data removed]",
      "text/plain": [
       "<Figure size 1000x500 with 1 Axes>"
      ]
     },
     "metadata": {},
     "output_type": "display_data"
    },
    {
     "data": {
      "image/png": "[encoded data removed]",
      "text/plain": [
       "<Figure size 1000x500 with 1 Axes>"
      ]
     },
     "metadata": {},
     "output_type": "display_data"
    }
   ],
   "source": [
    "# Выбираем только нужные столбцы\n",
    "columns_to_plot = ['distance', 'duration']\n",
    "column_names = {'distance': 'Расстояние', 'duration': 'Продолжительность'}\n",
    "\n",
    "# Построение гистограмм для пользователей с подпиской\n",
    "for column in columns_to_plot:\n",
    "    plt.figure(figsize=(10, 5))\n",
    "    sns.histplot(data_ultra[column], bins=30, kde=True, color='blue', label='Ultra')\n",
    "    sns.histplot(data_free[column], bins=30, kde=True, color='red', label='Free', alpha=0.5)\n",
    "    plt.title(f'Гистограмма {column_names[column]}')\n",
    "    plt.xlabel(column_names[column])\n",
    "    plt.ylabel('Частота')\n",
    "    plt.legend()\n",
    "    plt.show()"
   ]
  },
  {
   "cell_type": "code",
   "execution_count": 35,
   "id": "044e40f2",
   "metadata": {},
   "outputs": [
    {
     "data": {
      "image/png": "[encoded data removed]",
      "text/plain": [
       "<Figure size 1000x500 with 1 Axes>"
      ]
     },
     "metadata": {},
     "output_type": "display_data"
    }
   ],
   "source": [
    "plt.figure(figsize=(10, 5))\n",
    "sns.histplot(data_ultra['month'], bins=12, kde=False, color='blue', label='Ultra', alpha=0.6)\n",
    "sns.histplot(data_free['month'], bins=12, kde=False, color='red', label='Free', alpha=0.6)\n",
    "plt.title('Распределение поездок по месяцам')\n",
    "plt.xlabel('Месяц')\n",
    "plt.ylabel('Частота')\n",
    "plt.legend(title='Тип подписки')\n",
    "plt.show()"
   ]
  },
  {
   "cell_type": "markdown",
   "id": "7d08ff4e-690b-42c8-8edc-9f4044946520",
   "metadata": {},
   "source": [
    "<div style=\"border:solid green 2px; padding: 20px\">\n",
    "    \n",
    "**Вывод**\n",
    "\n",
    "Пользователи с подпиской составляют 37.3% от общего числа пользователей.\n",
    "\n",
    "Возраст пользователей:\n",
    "- распределен одинаково;\n",
    "- и для подписки ulta, и для бесплатной подписки характерен возраст польззователей от 22 до 28 лет;\n",
    "- срдеи пользователей старше 30 подписка ultra более популярна. \n",
    "\n",
    "Длительность поездки: \n",
    "- распределния близки к нормальному;\n",
    "- характерна длительность от 15 до 22 минут.\n",
    "\n",
    "Расстояние за одну поездку:\n",
    "- пользователи с подпиской в среднем проезжают от 2.8 до 3.6 км;\n",
    "- для пользователей без подпски характерна длительность от 2.6 до 4 км.\n",
    "\n",
    "Месяц использования: \n",
    "- количесвто поездок во все месяца различается не сильно;\n",
    "- среди пользователей с подпиской популряны июнь и август;\n",
    "- пользователи без подписки набиолее часто используют сервис в январе;\n",
    "\n"
   ]
  },
  {
   "cell_type": "markdown",
   "id": "70d47ebb-b259-4ca3-89c5-f884c7f2f4e9",
   "metadata": {},
   "source": [
    "# Подсчёт выручки\n",
    "<a id='5'></a>"
   ]
  },
  {
   "cell_type": "markdown",
   "id": "9ed8440a-d52f-4023-866d-0db4427436de",
   "metadata": {},
   "source": [
    "Создадим датафрейм с агрегированными данными о поездках на основе датафрейма с объединёнными данными из прошлого блока: найдем суммарное расстояние, количество поездок и суммарное время для каждого пользователя за каждый месяц."
   ]
  },
  {
   "cell_type": "code",
   "execution_count": 36,
   "id": "f7a1f625-a338-4715-8f2c-612319c91cfb",
   "metadata": {},
   "outputs": [
    {
     "data": {
      "text/html": [
       "<div>\n",
       "<style scoped>\n",
       "    .dataframe tbody tr th:only-of-type {\n",
       "        vertical-align: middle;\n",
       "    }\n",
       "\n",
       "    .dataframe tbody tr th {\n",
       "        vertical-align: top;\n",
       "    }\n",
       "\n",
       "    .dataframe thead th {\n",
       "        text-align: right;\n",
       "    }\n",
       "</style>\n",
       "<table border=\"1\" class=\"dataframe\">\n",
       "  <thead>\n",
       "    <tr style=\"text-align: right;\">\n",
       "      <th></th>\n",
       "      <th></th>\n",
       "      <th></th>\n",
       "      <th>sum_distance</th>\n",
       "      <th>sum_duration</th>\n",
       "      <th>count</th>\n",
       "    </tr>\n",
       "    <tr>\n",
       "      <th>user_id</th>\n",
       "      <th>month</th>\n",
       "      <th>subscription_type</th>\n",
       "      <th></th>\n",
       "      <th></th>\n",
       "      <th></th>\n",
       "    </tr>\n",
       "  </thead>\n",
       "  <tbody>\n",
       "    <tr>\n",
       "      <th rowspan=\"6\" valign=\"top\">1</th>\n",
       "      <th>1</th>\n",
       "      <th>ultra</th>\n",
       "      <td>7.0</td>\n",
       "      <td>41.4</td>\n",
       "      <td>2</td>\n",
       "    </tr>\n",
       "    <tr>\n",
       "      <th>4</th>\n",
       "      <th>ultra</th>\n",
       "      <td>0.8</td>\n",
       "      <td>6.2</td>\n",
       "      <td>1</td>\n",
       "    </tr>\n",
       "    <tr>\n",
       "      <th>8</th>\n",
       "      <th>ultra</th>\n",
       "      <td>6.7</td>\n",
       "      <td>44.8</td>\n",
       "      <td>2</td>\n",
       "    </tr>\n",
       "    <tr>\n",
       "      <th>10</th>\n",
       "      <th>ultra</th>\n",
       "      <td>5.8</td>\n",
       "      <td>31.6</td>\n",
       "      <td>2</td>\n",
       "    </tr>\n",
       "    <tr>\n",
       "      <th>11</th>\n",
       "      <th>ultra</th>\n",
       "      <td>6.9</td>\n",
       "      <td>53.3</td>\n",
       "      <td>3</td>\n",
       "    </tr>\n",
       "    <tr>\n",
       "      <th>12</th>\n",
       "      <th>ultra</th>\n",
       "      <td>6.7</td>\n",
       "      <td>27.2</td>\n",
       "      <td>2</td>\n",
       "    </tr>\n",
       "    <tr>\n",
       "      <th rowspan=\"4\" valign=\"top\">2</th>\n",
       "      <th>3</th>\n",
       "      <th>ultra</th>\n",
       "      <td>10.2</td>\n",
       "      <td>60.9</td>\n",
       "      <td>3</td>\n",
       "    </tr>\n",
       "    <tr>\n",
       "      <th>4</th>\n",
       "      <th>ultra</th>\n",
       "      <td>6.2</td>\n",
       "      <td>39.1</td>\n",
       "      <td>2</td>\n",
       "    </tr>\n",
       "    <tr>\n",
       "      <th>6</th>\n",
       "      <th>ultra</th>\n",
       "      <td>3.3</td>\n",
       "      <td>13.9</td>\n",
       "      <td>1</td>\n",
       "    </tr>\n",
       "    <tr>\n",
       "      <th>7</th>\n",
       "      <th>ultra</th>\n",
       "      <td>6.7</td>\n",
       "      <td>46.1</td>\n",
       "      <td>2</td>\n",
       "    </tr>\n",
       "  </tbody>\n",
       "</table>\n",
       "</div>"
      ],
      "text/plain": [
       "                                 sum_distance  sum_duration  count\n",
       "user_id month subscription_type                                   \n",
       "1       1     ultra                       7.0          41.4      2\n",
       "        4     ultra                       0.8           6.2      1\n",
       "        8     ultra                       6.7          44.8      2\n",
       "        10    ultra                       5.8          31.6      2\n",
       "        11    ultra                       6.9          53.3      3\n",
       "        12    ultra                       6.7          27.2      2\n",
       "2       3     ultra                      10.2          60.9      3\n",
       "        4     ultra                       6.2          39.1      2\n",
       "        6     ultra                       3.3          13.9      1\n",
       "        7     ultra                       6.7          46.1      2"
      ]
     },
     "execution_count": 36,
     "metadata": {},
     "output_type": "execute_result"
    }
   ],
   "source": [
    "agg_data = data.pivot_table(index = ['user_id', 'month', 'subscription_type'] , values = ['distance', 'duration'], aggfunc = ['sum', 'count'])\n",
    "agg_data.columns = [ 'sum_distance', 'sum_duration', 'count', 'useless']\n",
    "agg_data = agg_data.drop('useless', axis = 1)\n",
    "\n",
    "agg_data.head(10)"
   ]
  },
  {
   "cell_type": "code",
   "execution_count": 37,
   "id": "bda073cf-1b7e-47ac-aa12-242020bcb4ca",
   "metadata": {},
   "outputs": [
    {
     "data": {
      "text/html": [
       "<div>\n",
       "<style scoped>\n",
       "    .dataframe tbody tr th:only-of-type {\n",
       "        vertical-align: middle;\n",
       "    }\n",
       "\n",
       "    .dataframe tbody tr th {\n",
       "        vertical-align: top;\n",
       "    }\n",
       "\n",
       "    .dataframe thead th {\n",
       "        text-align: right;\n",
       "    }\n",
       "</style>\n",
       "<table border=\"1\" class=\"dataframe\">\n",
       "  <thead>\n",
       "    <tr style=\"text-align: right;\">\n",
       "      <th></th>\n",
       "      <th>user_id</th>\n",
       "      <th>month</th>\n",
       "      <th>subscription_type</th>\n",
       "      <th>sum_duration</th>\n",
       "      <th>count</th>\n",
       "      <th>sum_distance</th>\n",
       "    </tr>\n",
       "  </thead>\n",
       "  <tbody>\n",
       "    <tr>\n",
       "      <th>0</th>\n",
       "      <td>1</td>\n",
       "      <td>1</td>\n",
       "      <td>ultra</td>\n",
       "      <td>41.4</td>\n",
       "      <td>2</td>\n",
       "      <td>7.0</td>\n",
       "    </tr>\n",
       "    <tr>\n",
       "      <th>1</th>\n",
       "      <td>1</td>\n",
       "      <td>4</td>\n",
       "      <td>ultra</td>\n",
       "      <td>6.2</td>\n",
       "      <td>1</td>\n",
       "      <td>0.8</td>\n",
       "    </tr>\n",
       "    <tr>\n",
       "      <th>2</th>\n",
       "      <td>1</td>\n",
       "      <td>8</td>\n",
       "      <td>ultra</td>\n",
       "      <td>44.8</td>\n",
       "      <td>2</td>\n",
       "      <td>6.7</td>\n",
       "    </tr>\n",
       "    <tr>\n",
       "      <th>3</th>\n",
       "      <td>1</td>\n",
       "      <td>10</td>\n",
       "      <td>ultra</td>\n",
       "      <td>31.6</td>\n",
       "      <td>2</td>\n",
       "      <td>5.8</td>\n",
       "    </tr>\n",
       "    <tr>\n",
       "      <th>4</th>\n",
       "      <td>1</td>\n",
       "      <td>11</td>\n",
       "      <td>ultra</td>\n",
       "      <td>53.3</td>\n",
       "      <td>3</td>\n",
       "      <td>6.9</td>\n",
       "    </tr>\n",
       "    <tr>\n",
       "      <th>5</th>\n",
       "      <td>1</td>\n",
       "      <td>12</td>\n",
       "      <td>ultra</td>\n",
       "      <td>27.2</td>\n",
       "      <td>2</td>\n",
       "      <td>6.7</td>\n",
       "    </tr>\n",
       "    <tr>\n",
       "      <th>6</th>\n",
       "      <td>2</td>\n",
       "      <td>3</td>\n",
       "      <td>ultra</td>\n",
       "      <td>60.9</td>\n",
       "      <td>3</td>\n",
       "      <td>10.2</td>\n",
       "    </tr>\n",
       "    <tr>\n",
       "      <th>7</th>\n",
       "      <td>2</td>\n",
       "      <td>4</td>\n",
       "      <td>ultra</td>\n",
       "      <td>39.1</td>\n",
       "      <td>2</td>\n",
       "      <td>6.2</td>\n",
       "    </tr>\n",
       "    <tr>\n",
       "      <th>8</th>\n",
       "      <td>2</td>\n",
       "      <td>6</td>\n",
       "      <td>ultra</td>\n",
       "      <td>13.9</td>\n",
       "      <td>1</td>\n",
       "      <td>3.3</td>\n",
       "    </tr>\n",
       "    <tr>\n",
       "      <th>9</th>\n",
       "      <td>2</td>\n",
       "      <td>7</td>\n",
       "      <td>ultra</td>\n",
       "      <td>46.1</td>\n",
       "      <td>2</td>\n",
       "      <td>6.7</td>\n",
       "    </tr>\n",
       "  </tbody>\n",
       "</table>\n",
       "</div>"
      ],
      "text/plain": [
       "   user_id  month subscription_type  sum_duration  count  sum_distance\n",
       "0        1      1             ultra          41.4      2           7.0\n",
       "1        1      4             ultra           6.2      1           0.8\n",
       "2        1      8             ultra          44.8      2           6.7\n",
       "3        1     10             ultra          31.6      2           5.8\n",
       "4        1     11             ultra          53.3      3           6.9\n",
       "5        1     12             ultra          27.2      2           6.7\n",
       "6        2      3             ultra          60.9      3          10.2\n",
       "7        2      4             ultra          39.1      2           6.2\n",
       "8        2      6             ultra          13.9      1           3.3\n",
       "9        2      7             ultra          46.1      2           6.7"
      ]
     },
     "execution_count": 37,
     "metadata": {},
     "output_type": "execute_result"
    }
   ],
   "source": [
    "gr_data = data.groupby(['user_id', 'month','subscription_type']).agg({'duration': ['sum', 'count'], 'distance' : 'sum' }).reset_index()\n",
    "gr_data.columns = ['user_id', 'month', 'subscription_type', 'sum_duration', 'count', 'sum_distance']\n",
    "gr_data.head(10)"
   ]
  },
  {
   "cell_type": "markdown",
   "id": "79a5abcd-e433-49cb-a88c-873c6c2ff009",
   "metadata": {},
   "source": [
    "В этот же датафрейм добавим столбец с помесячной выручкой, которую принёс каждый пользователь. Продолжительность каждой поездки в каждой строке исходного датафрейма для подсчёта стоимости округлим до следующего целого числа"
   ]
  },
  {
   "cell_type": "code",
   "execution_count": 38,
   "id": "57515341-9f92-4ac9-b5bc-25d62efa9b14",
   "metadata": {},
   "outputs": [
    {
     "data": {
      "text/html": [
       "<div>\n",
       "<style scoped>\n",
       "    .dataframe tbody tr th:only-of-type {\n",
       "        vertical-align: middle;\n",
       "    }\n",
       "\n",
       "    .dataframe tbody tr th {\n",
       "        vertical-align: top;\n",
       "    }\n",
       "\n",
       "    .dataframe thead th {\n",
       "        text-align: right;\n",
       "    }\n",
       "</style>\n",
       "<table border=\"1\" class=\"dataframe\">\n",
       "  <thead>\n",
       "    <tr style=\"text-align: right;\">\n",
       "      <th></th>\n",
       "      <th>user_id</th>\n",
       "      <th>month</th>\n",
       "      <th>subscription_type</th>\n",
       "      <th>sum_duration</th>\n",
       "      <th>count</th>\n",
       "      <th>sum_distance</th>\n",
       "      <th>revenue</th>\n",
       "    </tr>\n",
       "  </thead>\n",
       "  <tbody>\n",
       "    <tr>\n",
       "      <th>0</th>\n",
       "      <td>1</td>\n",
       "      <td>1</td>\n",
       "      <td>ultra</td>\n",
       "      <td>42.0</td>\n",
       "      <td>2</td>\n",
       "      <td>7.0</td>\n",
       "      <td>451.0</td>\n",
       "    </tr>\n",
       "    <tr>\n",
       "      <th>1</th>\n",
       "      <td>1</td>\n",
       "      <td>4</td>\n",
       "      <td>ultra</td>\n",
       "      <td>7.0</td>\n",
       "      <td>1</td>\n",
       "      <td>0.8</td>\n",
       "      <td>241.0</td>\n",
       "    </tr>\n",
       "    <tr>\n",
       "      <th>2</th>\n",
       "      <td>1</td>\n",
       "      <td>8</td>\n",
       "      <td>ultra</td>\n",
       "      <td>45.0</td>\n",
       "      <td>2</td>\n",
       "      <td>6.7</td>\n",
       "      <td>469.0</td>\n",
       "    </tr>\n",
       "    <tr>\n",
       "      <th>3</th>\n",
       "      <td>1</td>\n",
       "      <td>10</td>\n",
       "      <td>ultra</td>\n",
       "      <td>32.0</td>\n",
       "      <td>2</td>\n",
       "      <td>5.8</td>\n",
       "      <td>391.0</td>\n",
       "    </tr>\n",
       "    <tr>\n",
       "      <th>4</th>\n",
       "      <td>1</td>\n",
       "      <td>11</td>\n",
       "      <td>ultra</td>\n",
       "      <td>54.0</td>\n",
       "      <td>3</td>\n",
       "      <td>6.9</td>\n",
       "      <td>523.0</td>\n",
       "    </tr>\n",
       "  </tbody>\n",
       "</table>\n",
       "</div>"
      ],
      "text/plain": [
       "   user_id  month subscription_type  sum_duration  count  sum_distance  \\\n",
       "0        1      1             ultra          42.0      2           7.0   \n",
       "1        1      4             ultra           7.0      1           0.8   \n",
       "2        1      8             ultra          45.0      2           6.7   \n",
       "3        1     10             ultra          32.0      2           5.8   \n",
       "4        1     11             ultra          54.0      3           6.9   \n",
       "\n",
       "   revenue  \n",
       "0    451.0  \n",
       "1    241.0  \n",
       "2    469.0  \n",
       "3    391.0  \n",
       "4    523.0  "
      ]
     },
     "execution_count": 38,
     "metadata": {},
     "output_type": "execute_result"
    }
   ],
   "source": [
    "gr_data['sum_duration'] = np.ceil(gr_data['sum_duration'])\n",
    "\n",
    "def rev(row):\n",
    "    revenue = 0\n",
    "    if row['subscription_type'] == 'ultra': \n",
    "        revenue += subscr['subscription_fee'][1] + row['sum_duration']*subscr['minute_price'][1]        \n",
    "    else:\n",
    "        revenue += subscr['start_ride_price'][0]*row['count'] +  row['sum_duration']*subscr['minute_price'][0] \n",
    "    return revenue\n",
    "\n",
    "gr_data['revenue'] = gr_data.apply(rev, axis =1)\n",
    "gr_data.head()"
   ]
  },
  {
   "cell_type": "markdown",
   "id": "544ba6f6-dd96-473e-ba67-a9bae6e5c8ec",
   "metadata": {},
   "source": [
    "#  Проверка гипотез\n",
    "<a id='6'></a>"
   ]
  },
  {
   "cell_type": "markdown",
   "id": "cc6f51d3-355a-42e2-b2cc-ab4673bfdbd1",
   "metadata": {},
   "source": [
    "Напишем общуюю функцию проверки гипотез:"
   ]
  },
  {
   "cell_type": "code",
   "execution_count": 39,
   "id": "bc425500-0e11-4d4d-87bc-fb1efaae4620",
   "metadata": {},
   "outputs": [],
   "source": [
    "def test_hyp(results, alpha):\n",
    "    print('p-value =', results.pvalue)\n",
    "    if results.pvalue < alpha:\n",
    "        print('Отвергаем нулевую гипотезу')\n",
    "    else:\n",
    "        print('Не получилось отвергнуть нулевую гипотезу')"
   ]
  },
  {
   "cell_type": "markdown",
   "id": "ff9fd93b-9125-4744-822c-4eefccea67d6",
   "metadata": {},
   "source": [
    "---"
   ]
  },
  {
   "cell_type": "markdown",
   "id": "3783f78e-3c35-4637-b9da-57c92d8a4ac5",
   "metadata": {},
   "source": [
    "Важно понять, тратят ли пользователи с подпиской больше времени на поездки? Если да, то пользователи с подпиской могут быть «выгоднее» для компании. \n",
    "\n",
    "Нулевая гипотеза: пользователи с подпиской тратят столько же времени на поездки, сколько и пользователи без подписки.\n",
    "\n",
    "Альтернативная гипотеза: пользователи с подпиской тратят больше времени на поездки."
   ]
  },
  {
   "cell_type": "code",
   "execution_count": 40,
   "id": "a3d5c9ed-bc81-4552-be57-7aa0ca7cf715",
   "metadata": {},
   "outputs": [
    {
     "name": "stdout",
     "output_type": "stream",
     "text": [
      "p-value = 1.3448182372889e-34\n",
      "Отвергаем нулевую гипотезу\n"
     ]
    }
   ],
   "source": [
    "test_hyp(st.ttest_ind(data_ultra['duration'], data_free['duration'], alternative='greater'), 0.05)"
   ]
  },
  {
   "cell_type": "markdown",
   "id": "06d3d951-5e21-46e5-833f-93c794fe6c56",
   "metadata": {},
   "source": [
    "Проверка с помощью t-теста показала, что стоит отвергнуть нулевую гипотезу в пользу альтенративной: то есть есть основания предполагать, что пользователи с подпиской тратят больше времени на поездки.\n",
    "\n",
    "---"
   ]
  },
  {
   "cell_type": "markdown",
   "id": "13721b18-19e9-4d65-af89-9f041eb983ed",
   "metadata": {},
   "source": [
    "Расстояние одной поездки в 3130 метров — оптимальное с точки зрения износа самоката. Можно ли сказать, что среднее расстояние, которое проезжают пользователи с подпиской за одну поездку, не превышает 3130 метров?\n",
    "\n",
    "Нулевая гипотеза: пользователи с подпиской, в среднем, проезжают 3130 метров.\n",
    "\n",
    "Альтернативная гипотеза: пользователи с подпиской проезжают больше 3130 метров."
   ]
  },
  {
   "cell_type": "code",
   "execution_count": 41,
   "id": "8d406ac3-be9b-4218-8e5b-a61b24a50dd4",
   "metadata": {},
   "outputs": [],
   "source": [
    "popmean = 3.130"
   ]
  },
  {
   "cell_type": "code",
   "execution_count": 42,
   "id": "cdebb9e8-cdc7-4885-89ce-294373c5d3f8",
   "metadata": {},
   "outputs": [
    {
     "name": "stdout",
     "output_type": "stream",
     "text": [
      "p-value = 0.9163021210579051\n",
      "Не получилось отвергнуть нулевую гипотезу\n"
     ]
    }
   ],
   "source": [
    "test_hyp(st.ttest_1samp(data_ultra['distance'], popmean, alternative = 'greater'), 0.05)"
   ]
  },
  {
   "cell_type": "markdown",
   "id": "83903a60-f16d-41dc-ac1f-43c90fa1fa88",
   "metadata": {},
   "source": [
    "Проверка с помощью t-теста показала, что на основании предоставленных данных нулевую гипотезу отвергнуть не получилось. Нет доказательств, что пользователи с подпиской проезжают не 3130 метров\n",
    "\n",
    "---"
   ]
  },
  {
   "cell_type": "markdown",
   "id": "48988cb4-5c6e-4b98-87e9-df13c45e2647",
   "metadata": {},
   "source": [
    "Проверим гипотезу о том, будет ли помесячная выручка от пользователей с подпиской по месяцам выше, чем выручка от пользователей без подписки.\n",
    "\n",
    "Нулевая гипотеза: помесячная выручка от пользователей с подпиской равна помесчной выручке от пользоватлей без подписки \n",
    "\n",
    "Альтернативная гипотеза: помесячная выручка от пользователей с подпиской по месяцам выше, чем выручка от пользователей без подписки"
   ]
  },
  {
   "cell_type": "code",
   "execution_count": 43,
   "id": "602a9faa-783b-49a6-a695-d7d807514d07",
   "metadata": {},
   "outputs": [
    {
     "name": "stdout",
     "output_type": "stream",
     "text": [
      "p-value = 1.8124385094177887e-35\n",
      "Отвергаем нулевую гипотезу\n"
     ]
    }
   ],
   "source": [
    "test_hyp(st.ttest_ind(gr_data[gr_data['subscription_type']=='ultra']['revenue'], gr_data[gr_data['subscription_type']=='free']['revenue'], alternative='greater'), 0.05)"
   ]
  },
  {
   "cell_type": "markdown",
   "id": "fc83b6b3-7503-4845-8d8a-4ddea4979ae1",
   "metadata": {},
   "source": [
    "Проверка с помощью t-теста показала, что стоит отвергнуть нулевую гипотезу в пользу альтенративной: то есть есть основания предполагать, что помесячная выручка от пользователей с подпиской по месяцам выше, чем выручка от пользователей без подписки.\n",
    "\n",
    "---"
   ]
  },
  {
   "cell_type": "markdown",
   "id": "ae6c4410-3be3-4cb2-bdc0-f0e938b9f0b3",
   "metadata": {},
   "source": [
    "# Дополнительное исслеодование \n",
    "<a id='7'></a>"
   ]
  },
  {
   "cell_type": "markdown",
   "id": "06f1eb46-7a79-4d13-9f91-1bacfd9cac29",
   "metadata": {},
   "source": [
    "Отделу маркетинга GoFast поставили задачу: нужно провести акцию с раздачей промокодов на один бесплатный месяц подписки, в рамках которой как минимум 100 существующих клиентов должны продлить эту подписку. То есть по завершении периода действия подписки пользователь может либо отказаться от неё, либо продлить, совершив соответствующий платёж. \n",
    "\n",
    "Эта акция уже проводилась ранее и по итогу выяснилось, что после бесплатного пробного периода подписку продлевают 10 % пользователей. Выясним, какое минимальное количество промокодов нужно разослать, чтобы вероятность не выполнить план была примерно 5 %. "
   ]
  },
  {
   "cell_type": "code",
   "execution_count": 44,
   "id": "0c7abacc-f979-44f5-93a9-07a3fdfd79d5",
   "metadata": {},
   "outputs": [
    {
     "name": "stdout",
     "output_type": "stream",
     "text": [
      "1170\n"
     ]
    }
   ],
   "source": [
    "p = 0.1 #вероятность успеха (продление подписки)\n",
    "N=1 #начальное значение количества промокодов. Потом будем увеличивать\n",
    "x = 100 #минимально необходимое количество успехов\n",
    "pr = 1 #вероятность получить x или меньше\n",
    "while pr >= 0.05: #крутим цикл до тех пор пока вероятность получить x или меньше успехов будет меньше 5%\n",
    "    mu = N*p\n",
    "    sigma = (N*p*(1-p))**0.5\n",
    "    x = 100\n",
    "    distr = st.norm(mu, sigma) #приближаем биномиальное распредление нормальным\n",
    "    pr = distr.cdf(x) # вероятность получить x или меньше\n",
    "    N +=1\n",
    "\n",
    "print(N)"
   ]
  },
  {
   "cell_type": "markdown",
   "id": "603d7042-2c89-4548-a3fb-1c0d220f86e1",
   "metadata": {},
   "source": [
    "\n",
    "---"
   ]
  },
  {
   "cell_type": "markdown",
   "id": "18bb4c10-a7f5-463a-9daa-317f755498bf",
   "metadata": {},
   "source": [
    "Отдел маркетинга рассылает клиентам push-уведомления в мобильном приложении. Клиенты могут открыть его или не открывать. Известно, что уведомления открывают около 40 % получивших клиентов. Отдел планирует разослать 1 млн уведомлений. С помощью аппроксимации построим примерный график распределения и оценим вероятность того, что уведомление откроют не более 399,5 тыс. пользователей."
   ]
  },
  {
   "cell_type": "code",
   "execution_count": 45,
   "id": "7876808d",
   "metadata": {},
   "outputs": [
    {
     "data": {
      "image/png": "[encoded data removed]",
      "text/plain": [
       "<Figure size 1000x600 with 1 Axes>"
      ]
     },
     "metadata": {},
     "output_type": "display_data"
    },
    {
     "name": "stdout",
     "output_type": "stream",
     "text": [
      "Вероятность того, что уведомление откроют не более 399,500 пользователей: 0.1537\n"
     ]
    }
   ],
   "source": [
    "# Параметры задачи\n",
    "p = 0.4  # Вероятность того, что уведомление откроют\n",
    "N = 1000000  # Количество отправленных уведомлений\n",
    "x = 399500  # Максимальное количество открытий для оценки вероятности\n",
    "\n",
    "# Параметры нормального распределения\n",
    "mu = N * p  # Среднее\n",
    "sigma = np.sqrt(N * p * (1 - p))  # Стандартное отклонение\n",
    "\n",
    "# Создание диапазона значений для оси X\n",
    "x_values = np.linspace(mu - 4*sigma, mu + 4*sigma, 1000)\n",
    "y_values = st.norm.pdf(x_values, mu, sigma)  # Вероятностная плотность нормального распределения\n",
    "\n",
    "# Построение графика\n",
    "plt.figure(figsize=(10, 6))\n",
    "plt.plot(x_values, y_values, label='Нормальное распределение', color='b')\n",
    "plt.fill_between(x_values, y_values, where=(x_values <= x), color='skyblue', alpha=0.4, label='Вероятность открытия ≤ 399500')\n",
    "\n",
    "# Вероятность того, что уведомление откроют не более 399500 пользователей\n",
    "pr = st.norm.cdf(x, mu, sigma)\n",
    "plt.axvline(x=x, color='r', linestyle='--', label=f'Порог: {x:,}')\n",
    "plt.xlabel('Количество открытых уведомлений')\n",
    "plt.ylabel('Плотность вероятности')\n",
    "plt.title('График распределения для количества открытых уведомлений')\n",
    "plt.legend()\n",
    "plt.grid(True)\n",
    "plt.show()\n",
    "\n",
    "# Вывод вероятности\n",
    "print(f'Вероятность того, что уведомление откроют не более {x:,} пользователей: {pr:.4f}')"
   ]
  },
  {
   "cell_type": "markdown",
   "id": "33daf236-d12d-4c55-a11a-c0a32eb5de22",
   "metadata": {},
   "source": [
    "# Вывод\n",
    "<a id='8'></a>"
   ]
  },
  {
   "cell_type": "markdown",
   "id": "757d3297-4558-43e5-b276-8a73fa4582a7",
   "metadata": {},
   "source": [
    "Была проведена предобработка данных: \n",
    "- выявлено, что данные предоставлены за 2021 год (с 1 января по 30 декабря)\n",
    "- удалены явные дубликаты в таблице users;\n",
    "- проверены данные на наличие пропусков и неявных дубликатов (таких не обнаружено);\n",
    "- столбец 'date' приведен к типу date;\n",
    "- столбец 'distance' переведен в км и округлен до 1 знака после запятой;\n",
    "- столбец 'duration' округлен до 1 знака после запятой.\n",
    "\n",
    "Исследовательский анализ данных был проведен с копиями исходных датафреймов. Его результаты: \n",
    "- все 8 городов встречаются почти одинаковое количестов раз, однако самый популярный город - Пятигорск (около 220 пользоватлей), а наименее популряный - Москва ( около 175 пользователей);\n",
    "- пользовталей без подписки больше половины.\n",
    "\n",
    "Далее данные таблиц users и rides были объеденены в одну таблицу data по стобцу 'user_id'. В методе merge по умолчанию стоял параметр объединения 'inner'.Таким образом, в объединенном датафрейме не могло появиться новых пропусков (с учетом того, что на этапе предобработки данных было выявлено, что пропусков в исходных таблицах нет). Более того, размерность объединенной таблицы совпала с размерностью таблицы good_rides. Также были созданы еще два датафрейма, которые будут хранить информацию о пользователях и поездках с подпиской и без.\n",
    "\n",
    "Результаты исследования объединенных данных:\n",
    "- Возраст пользователей:\n",
    "    - распределен одинаково;\n",
    "    - и для подписки ulta, и для бесплатной подписки характерен возраст польззователей от 22 до 28 лет;\n",
    "    - срдеи пользователей старше 30 подписка ultra более популярна. \n",
    "\n",
    "- Длительность поездки: \n",
    "    - распредлена одинаково;\n",
    "    - характерна длительность от 15 до 22 минут.\n",
    "\n",
    "- Расстояние за одну поездку:\n",
    "    - пользователи с подпиской в среднем проезжают от 2.8 до 3.6 км;\n",
    "    - для пользователей без подпски характерна длительность от 2.6 до 4 км.\n",
    "\n",
    "- Месяц использования: \n",
    "    - количесвто поездок во все месяца различается не сильно;\n",
    "    - среди пользователей с подпиской популряны июнь и август;\n",
    "    - пользователи без подписки набиолее часто используют сервис в январе;\n",
    "\n",
    "Далее была рассчитана помесячная выручка, которую принес каждый пользователь. На основе этих данных была выдвинута гипотеза: помесячная выручка от пользователей с подпиской равна помесчной выручке от пользоватлей без подписки. Проверка с помощью t-теста показала, что стоит отвергнуть нулевую гипотезу в пользу альтенративной: то есть есть основания предполагать, что помесячная выручка от пользователей с подпиской по месяцам выше, чем выручка от пользователей без подписки.\n",
    "\n",
    "Было проверено еще несколько гипотез: \n",
    "- тратят ли пользователи с подпиской больше времени на поездки? Если да, то пользователи с подпиской могут быть «выгоднее» для компании. Нулевая гипотеза отвергнута в пользу альтенративной: то есть есть основания предполагать, что пользователи с подпиской тратят больше времени на поездки.\n",
    "- Расстояние одной поездки в 3130 метров — оптимальное с точки зрения износа самоката. Можно ли сказать, что среднее расстояние, которое проезжают пользователи с подпиской за одну поездку, не превышает 3130 метров? Проверка с помощью t-теста показала, что на основании предоставленных данных нулевую гипотезу отвергнуть не получилось. Нет доказательств, что пользователи с подпиской проезжают не 3130 метров.\n",
    "\n",
    "Рекомендации по улучшению качества данных и направления дальнейших исследований:\n",
    "- исследования показали, что пользователи с подпиской выгоднее для компании. Для увеличения числа подписок предлагается провести акцию с раздачей промокодов на один бесплатный месяц подписки, в рамках которой существующие клиенты должны продлить эту подписку. Дополнительное исследование показало, что надо разослать 1170 промокодов, чтобы как минимум 100 пользователей продлили подписку;"
   ]
  },
  {
   "cell_type": "code",
   "execution_count": null,
   "id": "230f1e6d-7e3e-4e8c-8405-6f2cde9b27a4",
   "metadata": {},
   "outputs": [],
   "source": []
  }
 ],
 "metadata": {
  "ExecuteTimeLog": [
   {
    "duration": 1016,
    "start_time": "2024-07-30T11:40:15.284Z"
   },
   {
    "duration": 74,
    "start_time": "2024-07-30T11:40:16.302Z"
   },
   {
    "duration": 31,
    "start_time": "2024-07-30T11:40:16.379Z"
   },
   {
    "duration": 468,
    "start_time": "2024-07-30T11:40:16.412Z"
   },
   {
    "duration": 18,
    "start_time": "2024-07-30T11:40:16.883Z"
   },
   {
    "duration": 361,
    "start_time": "2024-07-30T11:40:16.903Z"
   },
   {
    "duration": 14,
    "start_time": "2024-07-30T11:40:17.273Z"
   },
   {
    "duration": 30,
    "start_time": "2024-07-30T11:40:17.288Z"
   },
   {
    "duration": 14,
    "start_time": "2024-07-30T11:40:17.320Z"
   },
   {
    "duration": 5,
    "start_time": "2024-07-30T11:40:17.336Z"
   },
   {
    "duration": 8,
    "start_time": "2024-07-30T11:40:17.342Z"
   },
   {
    "duration": 29,
    "start_time": "2024-07-30T11:40:17.351Z"
   },
   {
    "duration": 5,
    "start_time": "2024-07-30T11:40:17.382Z"
   },
   {
    "duration": 13,
    "start_time": "2024-07-30T11:40:17.391Z"
   },
   {
    "duration": 26,
    "start_time": "2024-07-30T11:40:17.406Z"
   },
   {
    "duration": 3,
    "start_time": "2024-07-30T11:40:17.434Z"
   },
   {
    "duration": 188,
    "start_time": "2024-07-30T11:40:17.438Z"
   },
   {
    "duration": 95,
    "start_time": "2024-07-30T11:40:17.629Z"
   },
   {
    "duration": 9,
    "start_time": "2024-07-30T11:40:17.726Z"
   },
   {
    "duration": 171,
    "start_time": "2024-07-30T11:40:17.737Z"
   },
   {
    "duration": 4,
    "start_time": "2024-07-30T11:40:17.910Z"
   },
   {
    "duration": 26,
    "start_time": "2024-07-30T11:40:17.916Z"
   },
   {
    "duration": 50,
    "start_time": "2024-07-30T11:40:17.944Z"
   },
   {
    "duration": 191,
    "start_time": "2024-07-30T11:40:17.996Z"
   },
   {
    "duration": 5,
    "start_time": "2024-07-30T11:40:18.190Z"
   },
   {
    "duration": 16,
    "start_time": "2024-07-30T11:40:18.197Z"
   },
   {
    "duration": 181,
    "start_time": "2024-07-30T11:40:18.215Z"
   },
   {
    "duration": 5,
    "start_time": "2024-07-30T11:40:18.398Z"
   },
   {
    "duration": 15,
    "start_time": "2024-07-30T11:40:18.404Z"
   },
   {
    "duration": 18,
    "start_time": "2024-07-30T11:40:18.420Z"
   },
   {
    "duration": 40,
    "start_time": "2024-07-30T11:40:18.440Z"
   },
   {
    "duration": 43,
    "start_time": "2024-07-30T11:40:18.482Z"
   },
   {
    "duration": 4,
    "start_time": "2024-07-30T11:40:18.527Z"
   },
   {
    "duration": 31,
    "start_time": "2024-07-30T11:40:18.533Z"
   },
   {
    "duration": 1433,
    "start_time": "2024-07-30T11:40:18.567Z"
   },
   {
    "duration": 24,
    "start_time": "2024-07-30T11:40:20.002Z"
   },
   {
    "duration": 1277,
    "start_time": "2024-07-30T11:40:20.028Z"
   },
   {
    "duration": 55,
    "start_time": "2024-07-30T11:40:21.307Z"
   },
   {
    "duration": 40,
    "start_time": "2024-07-30T11:40:21.364Z"
   },
   {
    "duration": 330,
    "start_time": "2024-07-30T11:40:21.406Z"
   },
   {
    "duration": 4,
    "start_time": "2024-07-30T11:40:21.739Z"
   },
   {
    "duration": 26,
    "start_time": "2024-07-30T11:40:21.755Z"
   },
   {
    "duration": 12,
    "start_time": "2024-07-30T11:40:21.783Z"
   },
   {
    "duration": 7,
    "start_time": "2024-07-30T11:40:21.796Z"
   },
   {
    "duration": 8,
    "start_time": "2024-07-30T11:40:21.805Z"
   },
   {
    "duration": 1299,
    "start_time": "2024-07-30T11:40:21.815Z"
   },
   {
    "duration": 6,
    "start_time": "2024-07-30T11:40:23.116Z"
   },
   {
    "duration": 18,
    "start_time": "2024-07-30T13:31:15.899Z"
   },
   {
    "duration": 1131,
    "start_time": "2024-07-30T13:36:20.113Z"
   },
   {
    "duration": 724,
    "start_time": "2024-07-30T13:38:24.899Z"
   },
   {
    "duration": 81,
    "start_time": "2024-07-30T13:40:19.581Z"
   },
   {
    "duration": 811,
    "start_time": "2024-07-30T13:40:26.781Z"
   },
   {
    "duration": 413,
    "start_time": "2024-07-30T13:40:51.400Z"
   },
   {
    "duration": 731,
    "start_time": "2024-07-30T13:41:28.880Z"
   },
   {
    "duration": 929,
    "start_time": "2024-07-30T13:42:22.883Z"
   },
   {
    "duration": 73,
    "start_time": "2024-07-30T13:42:23.815Z"
   },
   {
    "duration": 25,
    "start_time": "2024-07-30T13:42:23.889Z"
   },
   {
    "duration": 473,
    "start_time": "2024-07-30T13:42:23.917Z"
   },
   {
    "duration": 19,
    "start_time": "2024-07-30T13:42:24.393Z"
   },
   {
    "duration": 356,
    "start_time": "2024-07-30T13:42:24.414Z"
   },
   {
    "duration": 7,
    "start_time": "2024-07-30T13:42:24.772Z"
   },
   {
    "duration": 45,
    "start_time": "2024-07-30T13:42:24.781Z"
   },
   {
    "duration": 14,
    "start_time": "2024-07-30T13:42:24.829Z"
   },
   {
    "duration": 19,
    "start_time": "2024-07-30T13:42:24.846Z"
   },
   {
    "duration": 9,
    "start_time": "2024-07-30T13:42:24.867Z"
   },
   {
    "duration": 21,
    "start_time": "2024-07-30T13:42:24.878Z"
   },
   {
    "duration": 9,
    "start_time": "2024-07-30T13:42:24.900Z"
   },
   {
    "duration": 31,
    "start_time": "2024-07-30T13:42:24.910Z"
   },
   {
    "duration": 24,
    "start_time": "2024-07-30T13:42:24.943Z"
   },
   {
    "duration": 3,
    "start_time": "2024-07-30T13:42:24.969Z"
   },
   {
    "duration": 153,
    "start_time": "2024-07-30T13:42:24.974Z"
   },
   {
    "duration": 82,
    "start_time": "2024-07-30T13:42:25.129Z"
   },
   {
    "duration": 8,
    "start_time": "2024-07-30T13:42:25.213Z"
   },
   {
    "duration": 174,
    "start_time": "2024-07-30T13:42:25.222Z"
   },
   {
    "duration": 5,
    "start_time": "2024-07-30T13:42:25.398Z"
   },
   {
    "duration": 19,
    "start_time": "2024-07-30T13:42:25.405Z"
   },
   {
    "duration": 21,
    "start_time": "2024-07-30T13:42:25.426Z"
   },
   {
    "duration": 164,
    "start_time": "2024-07-30T13:42:25.448Z"
   },
   {
    "duration": 4,
    "start_time": "2024-07-30T13:42:25.614Z"
   },
   {
    "duration": 22,
    "start_time": "2024-07-30T13:42:25.620Z"
   },
   {
    "duration": 157,
    "start_time": "2024-07-30T13:42:25.644Z"
   },
   {
    "duration": 5,
    "start_time": "2024-07-30T13:42:25.804Z"
   },
   {
    "duration": 28,
    "start_time": "2024-07-30T13:42:25.811Z"
   },
   {
    "duration": 41,
    "start_time": "2024-07-30T13:42:25.841Z"
   },
   {
    "duration": 17,
    "start_time": "2024-07-30T13:42:25.885Z"
   },
   {
    "duration": 5,
    "start_time": "2024-07-30T13:42:25.904Z"
   },
   {
    "duration": 29,
    "start_time": "2024-07-30T13:42:25.911Z"
   },
   {
    "duration": 49,
    "start_time": "2024-07-30T13:42:25.942Z"
   },
   {
    "duration": 1203,
    "start_time": "2024-07-30T13:42:25.993Z"
   },
   {
    "duration": 25,
    "start_time": "2024-07-30T13:42:27.198Z"
   },
   {
    "duration": 1096,
    "start_time": "2024-07-30T13:42:27.224Z"
   },
   {
    "duration": 865,
    "start_time": "2024-07-30T13:42:28.322Z"
   },
   {
    "duration": 36,
    "start_time": "2024-07-30T13:42:29.189Z"
   },
   {
    "duration": 46,
    "start_time": "2024-07-30T13:42:29.227Z"
   },
   {
    "duration": 291,
    "start_time": "2024-07-30T13:42:29.275Z"
   },
   {
    "duration": 3,
    "start_time": "2024-07-30T13:42:29.568Z"
   },
   {
    "duration": 9,
    "start_time": "2024-07-30T13:42:29.573Z"
   },
   {
    "duration": 6,
    "start_time": "2024-07-30T13:42:29.583Z"
   },
   {
    "duration": 8,
    "start_time": "2024-07-30T13:42:29.590Z"
   },
   {
    "duration": 8,
    "start_time": "2024-07-30T13:42:29.600Z"
   },
   {
    "duration": 1083,
    "start_time": "2024-07-30T13:42:29.610Z"
   },
   {
    "duration": 5,
    "start_time": "2024-07-30T13:42:30.694Z"
   },
   {
    "duration": 12,
    "start_time": "2024-07-30T13:42:47.828Z"
   },
   {
    "duration": 6,
    "start_time": "2024-07-30T13:45:40.685Z"
   },
   {
    "duration": 512,
    "start_time": "2024-07-30T13:53:39.485Z"
   },
   {
    "duration": 57,
    "start_time": "2024-07-30T13:56:40.069Z"
   },
   {
    "duration": 366,
    "start_time": "2024-07-30T13:56:47.393Z"
   },
   {
    "duration": 896,
    "start_time": "2024-07-30T13:59:29.697Z"
   },
   {
    "duration": 76,
    "start_time": "2024-07-30T13:59:30.595Z"
   },
   {
    "duration": 197,
    "start_time": "2024-07-30T13:59:30.672Z"
   },
   {
    "duration": 518,
    "start_time": "2024-07-30T13:59:30.871Z"
   },
   {
    "duration": 19,
    "start_time": "2024-07-30T13:59:31.391Z"
   },
   {
    "duration": 402,
    "start_time": "2024-07-30T13:59:31.411Z"
   },
   {
    "duration": 9,
    "start_time": "2024-07-30T13:59:31.814Z"
   },
   {
    "duration": 62,
    "start_time": "2024-07-30T13:59:31.824Z"
   },
   {
    "duration": 87,
    "start_time": "2024-07-30T13:59:31.888Z"
   },
   {
    "duration": 73,
    "start_time": "2024-07-30T13:59:31.978Z"
   },
   {
    "duration": 68,
    "start_time": "2024-07-30T13:59:32.053Z"
   },
   {
    "duration": 43,
    "start_time": "2024-07-30T13:59:32.122Z"
   },
   {
    "duration": 55,
    "start_time": "2024-07-30T13:59:32.167Z"
   },
   {
    "duration": 68,
    "start_time": "2024-07-30T13:59:32.223Z"
   },
   {
    "duration": 43,
    "start_time": "2024-07-30T13:59:32.293Z"
   },
   {
    "duration": 31,
    "start_time": "2024-07-30T13:59:32.338Z"
   },
   {
    "duration": 165,
    "start_time": "2024-07-30T13:59:32.371Z"
   },
   {
    "duration": 80,
    "start_time": "2024-07-30T13:59:32.538Z"
   },
   {
    "duration": 9,
    "start_time": "2024-07-30T13:59:32.619Z"
   },
   {
    "duration": 270,
    "start_time": "2024-07-30T13:59:32.629Z"
   },
   {
    "duration": 6,
    "start_time": "2024-07-30T13:59:32.900Z"
   },
   {
    "duration": 19,
    "start_time": "2024-07-30T13:59:32.907Z"
   },
   {
    "duration": 22,
    "start_time": "2024-07-30T13:59:32.927Z"
   },
   {
    "duration": 155,
    "start_time": "2024-07-30T13:59:32.951Z"
   },
   {
    "duration": 6,
    "start_time": "2024-07-30T13:59:33.109Z"
   },
   {
    "duration": 94,
    "start_time": "2024-07-30T13:59:33.117Z"
   },
   {
    "duration": 168,
    "start_time": "2024-07-30T13:59:33.213Z"
   },
   {
    "duration": 4,
    "start_time": "2024-07-30T13:59:33.385Z"
   },
   {
    "duration": 31,
    "start_time": "2024-07-30T13:59:33.391Z"
   },
   {
    "duration": 27,
    "start_time": "2024-07-30T13:59:33.424Z"
   },
   {
    "duration": 19,
    "start_time": "2024-07-30T13:59:33.453Z"
   },
   {
    "duration": 5,
    "start_time": "2024-07-30T13:59:33.474Z"
   },
   {
    "duration": 21,
    "start_time": "2024-07-30T13:59:33.481Z"
   },
   {
    "duration": 27,
    "start_time": "2024-07-30T13:59:33.504Z"
   },
   {
    "duration": 1241,
    "start_time": "2024-07-30T13:59:33.533Z"
   },
   {
    "duration": 27,
    "start_time": "2024-07-30T13:59:34.776Z"
   },
   {
    "duration": 1089,
    "start_time": "2024-07-30T13:59:34.805Z"
   },
   {
    "duration": 919,
    "start_time": "2024-07-30T13:59:35.896Z"
   },
   {
    "duration": 51,
    "start_time": "2024-07-30T13:59:36.818Z"
   },
   {
    "duration": 28,
    "start_time": "2024-07-30T13:59:36.871Z"
   },
   {
    "duration": 313,
    "start_time": "2024-07-30T13:59:36.901Z"
   },
   {
    "duration": 4,
    "start_time": "2024-07-30T13:59:37.216Z"
   },
   {
    "duration": 25,
    "start_time": "2024-07-30T13:59:37.221Z"
   },
   {
    "duration": 7,
    "start_time": "2024-07-30T13:59:37.247Z"
   },
   {
    "duration": 13,
    "start_time": "2024-07-30T13:59:37.255Z"
   },
   {
    "duration": 7,
    "start_time": "2024-07-30T13:59:37.270Z"
   },
   {
    "duration": 9,
    "start_time": "2024-07-30T13:59:37.279Z"
   },
   {
    "duration": 1096,
    "start_time": "2024-07-30T13:59:37.290Z"
   },
   {
    "duration": 6,
    "start_time": "2024-07-30T13:59:38.388Z"
   },
   {
    "duration": 426,
    "start_time": "2024-07-30T13:59:38.396Z"
   },
   {
    "duration": 847,
    "start_time": "2024-07-31T05:30:15.661Z"
   },
   {
    "duration": 69,
    "start_time": "2024-07-31T05:30:16.510Z"
   },
   {
    "duration": 23,
    "start_time": "2024-07-31T05:30:16.580Z"
   },
   {
    "duration": 428,
    "start_time": "2024-07-31T05:30:16.604Z"
   },
   {
    "duration": 17,
    "start_time": "2024-07-31T05:30:17.034Z"
   },
   {
    "duration": 286,
    "start_time": "2024-07-31T05:30:17.064Z"
   },
   {
    "duration": 13,
    "start_time": "2024-07-31T05:30:17.352Z"
   },
   {
    "duration": 7,
    "start_time": "2024-07-31T05:30:17.367Z"
   },
   {
    "duration": 5,
    "start_time": "2024-07-31T05:30:17.376Z"
   },
   {
    "duration": 5,
    "start_time": "2024-07-31T05:30:17.382Z"
   },
   {
    "duration": 7,
    "start_time": "2024-07-31T05:30:17.388Z"
   },
   {
    "duration": 8,
    "start_time": "2024-07-31T05:30:17.397Z"
   },
   {
    "duration": 4,
    "start_time": "2024-07-31T05:30:17.407Z"
   },
   {
    "duration": 51,
    "start_time": "2024-07-31T05:30:17.414Z"
   },
   {
    "duration": 11,
    "start_time": "2024-07-31T05:30:17.467Z"
   },
   {
    "duration": 8,
    "start_time": "2024-07-31T05:30:17.479Z"
   },
   {
    "duration": 2,
    "start_time": "2024-07-31T05:30:17.489Z"
   },
   {
    "duration": 159,
    "start_time": "2024-07-31T05:30:17.492Z"
   },
   {
    "duration": 12,
    "start_time": "2024-07-31T05:30:17.653Z"
   },
   {
    "duration": 75,
    "start_time": "2024-07-31T05:30:17.667Z"
   },
   {
    "duration": 22,
    "start_time": "2024-07-31T05:30:17.744Z"
   },
   {
    "duration": 150,
    "start_time": "2024-07-31T05:30:17.768Z"
   },
   {
    "duration": 4,
    "start_time": "2024-07-31T05:30:17.920Z"
   },
   {
    "duration": 6,
    "start_time": "2024-07-31T05:30:17.926Z"
   },
   {
    "duration": 7,
    "start_time": "2024-07-31T05:30:17.933Z"
   },
   {
    "duration": 135,
    "start_time": "2024-07-31T05:30:17.942Z"
   },
   {
    "duration": 8,
    "start_time": "2024-07-31T05:30:18.079Z"
   },
   {
    "duration": 132,
    "start_time": "2024-07-31T05:30:18.088Z"
   },
   {
    "duration": 11,
    "start_time": "2024-07-31T05:30:18.221Z"
   },
   {
    "duration": 30,
    "start_time": "2024-07-31T05:30:18.233Z"
   },
   {
    "duration": 20,
    "start_time": "2024-07-31T05:30:18.265Z"
   },
   {
    "duration": 25,
    "start_time": "2024-07-31T05:30:18.286Z"
   },
   {
    "duration": 46,
    "start_time": "2024-07-31T05:30:18.312Z"
   },
   {
    "duration": 1080,
    "start_time": "2024-07-31T05:30:18.360Z"
   },
   {
    "duration": 28,
    "start_time": "2024-07-31T05:30:19.443Z"
   },
   {
    "duration": 868,
    "start_time": "2024-07-31T05:30:19.473Z"
   },
   {
    "duration": 1159,
    "start_time": "2024-07-31T05:30:20.343Z"
   },
   {
    "duration": 217,
    "start_time": "2024-07-31T05:30:21.504Z"
   },
   {
    "duration": 44,
    "start_time": "2024-07-31T05:30:21.722Z"
   },
   {
    "duration": 35,
    "start_time": "2024-07-31T05:30:21.768Z"
   },
   {
    "duration": 323,
    "start_time": "2024-07-31T05:30:21.807Z"
   },
   {
    "duration": 3,
    "start_time": "2024-07-31T05:30:22.131Z"
   },
   {
    "duration": 5,
    "start_time": "2024-07-31T05:30:22.136Z"
   },
   {
    "duration": 22,
    "start_time": "2024-07-31T05:30:22.143Z"
   },
   {
    "duration": 3,
    "start_time": "2024-07-31T05:30:22.166Z"
   },
   {
    "duration": 7,
    "start_time": "2024-07-31T05:30:22.170Z"
   },
   {
    "duration": 8,
    "start_time": "2024-07-31T05:30:22.179Z"
   },
   {
    "duration": 987,
    "start_time": "2024-07-31T05:30:22.188Z"
   },
   {
    "duration": 5,
    "start_time": "2024-07-31T05:30:23.176Z"
   },
   {
    "duration": 327,
    "start_time": "2024-07-31T05:30:23.183Z"
   },
   {
    "duration": 234,
    "start_time": "2024-07-31T06:20:33.931Z"
   },
   {
    "duration": 1133,
    "start_time": "2024-07-31T10:04:16.749Z"
   },
   {
    "duration": 71,
    "start_time": "2024-07-31T10:04:17.883Z"
   },
   {
    "duration": 17,
    "start_time": "2024-07-31T10:04:17.956Z"
   },
   {
    "duration": 152,
    "start_time": "2024-07-31T10:04:17.975Z"
   },
   {
    "duration": 17,
    "start_time": "2024-07-31T10:04:18.129Z"
   },
   {
    "duration": 271,
    "start_time": "2024-07-31T10:04:18.147Z"
   },
   {
    "duration": 6,
    "start_time": "2024-07-31T10:04:18.420Z"
   },
   {
    "duration": 7,
    "start_time": "2024-07-31T10:04:18.427Z"
   },
   {
    "duration": 6,
    "start_time": "2024-07-31T10:04:18.435Z"
   },
   {
    "duration": 3,
    "start_time": "2024-07-31T10:04:18.443Z"
   },
   {
    "duration": 13,
    "start_time": "2024-07-31T10:04:18.447Z"
   },
   {
    "duration": 7,
    "start_time": "2024-07-31T10:04:18.482Z"
   },
   {
    "duration": 7,
    "start_time": "2024-07-31T10:04:18.491Z"
   },
   {
    "duration": 11,
    "start_time": "2024-07-31T10:04:18.499Z"
   },
   {
    "duration": 11,
    "start_time": "2024-07-31T10:04:18.511Z"
   },
   {
    "duration": 8,
    "start_time": "2024-07-31T10:04:18.523Z"
   },
   {
    "duration": 2,
    "start_time": "2024-07-31T10:04:18.533Z"
   },
   {
    "duration": 158,
    "start_time": "2024-07-31T10:04:18.537Z"
   },
   {
    "duration": 6,
    "start_time": "2024-07-31T10:04:18.697Z"
   },
   {
    "duration": 85,
    "start_time": "2024-07-31T10:04:18.704Z"
   },
   {
    "duration": 8,
    "start_time": "2024-07-31T10:04:18.791Z"
   },
   {
    "duration": 170,
    "start_time": "2024-07-31T10:04:18.801Z"
   },
   {
    "duration": 2,
    "start_time": "2024-07-31T10:04:18.973Z"
   },
   {
    "duration": 6,
    "start_time": "2024-07-31T10:04:18.982Z"
   },
   {
    "duration": 9,
    "start_time": "2024-07-31T10:04:18.990Z"
   },
   {
    "duration": 178,
    "start_time": "2024-07-31T10:04:19.000Z"
   },
   {
    "duration": 7,
    "start_time": "2024-07-31T10:04:19.181Z"
   },
   {
    "duration": 182,
    "start_time": "2024-07-31T10:04:19.191Z"
   },
   {
    "duration": 14,
    "start_time": "2024-07-31T10:04:19.374Z"
   },
   {
    "duration": 12,
    "start_time": "2024-07-31T10:04:19.390Z"
   },
   {
    "duration": 30,
    "start_time": "2024-07-31T10:04:19.403Z"
   },
   {
    "duration": 54,
    "start_time": "2024-07-31T10:04:19.435Z"
   },
   {
    "duration": 30,
    "start_time": "2024-07-31T10:04:19.490Z"
   },
   {
    "duration": 41,
    "start_time": "2024-07-31T10:04:19.522Z"
   },
   {
    "duration": 22,
    "start_time": "2024-07-31T10:04:19.565Z"
   },
   {
    "duration": 1125,
    "start_time": "2024-07-31T10:04:19.589Z"
   },
   {
    "duration": 206,
    "start_time": "2024-07-31T10:04:20.716Z"
   },
   {
    "duration": 32,
    "start_time": "2024-07-31T10:04:20.923Z"
   },
   {
    "duration": 38,
    "start_time": "2024-07-31T10:04:20.956Z"
   },
   {
    "duration": 279,
    "start_time": "2024-07-31T10:04:20.995Z"
   },
   {
    "duration": 7,
    "start_time": "2024-07-31T10:04:21.275Z"
   },
   {
    "duration": 5,
    "start_time": "2024-07-31T10:04:21.284Z"
   },
   {
    "duration": 5,
    "start_time": "2024-07-31T10:04:21.290Z"
   },
   {
    "duration": 2,
    "start_time": "2024-07-31T10:04:21.297Z"
   },
   {
    "duration": 4,
    "start_time": "2024-07-31T10:04:21.300Z"
   },
   {
    "duration": 8,
    "start_time": "2024-07-31T10:04:21.305Z"
   },
   {
    "duration": 890,
    "start_time": "2024-07-31T10:04:21.315Z"
   },
   {
    "duration": 4,
    "start_time": "2024-07-31T10:04:22.206Z"
   },
   {
    "duration": 302,
    "start_time": "2024-07-31T10:04:22.212Z"
   }
  ],
  "kernelspec": {
   "display_name": "Python 3 (ipykernel)",
   "language": "python",
   "name": "python3"
  },
  "language_info": {
   "codemirror_mode": {
    "name": "ipython",
    "version": 3
   },
   "file_extension": ".py",
   "mimetype": "text/x-python",
   "name": "python",
   "nbconvert_exporter": "python",
   "pygments_lexer": "ipython3",
   "version": "3.9.19"
  },
  "toc": {
   "base_numbering": 1,
   "nav_menu": {},
   "number_sections": true,
   "sideBar": true,
   "skip_h1_title": true,
   "title_cell": "Table of Contents",
   "title_sidebar": "Contents",
   "toc_cell": false,
   "toc_position": {},
   "toc_section_display": true,
   "toc_window_display": false
  }
 },
 "nbformat": 4,
 "nbformat_minor": 5
}
